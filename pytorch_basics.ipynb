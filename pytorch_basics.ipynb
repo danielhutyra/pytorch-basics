{
 "cells": [
  {
   "cell_type": "markdown",
   "metadata": {
    "colab_type": "text",
    "id": "BlW3QW0ZmUyM"
   },
   "source": [
    "## Wprowadzenie do PyTorch\n",
    "\n",
    "\n",
    "PyTorch jest frameworkiem opartym na grafach dynamicznych umożliwiający obliczenia na gpu.\n",
    "\n",
    "\n",
    "\n",
    "Jednym z najważniejszych pakietw w PyTorch jest pakiet *Autograd *(AUTOMATIC DIFFERENTIATION) https://pytorch.org/docs/stable/autograd.html\n",
    "\n",
    "Zawiera klasy i funkcje umożliwiające obliczanie pochodnych funkcji.\n",
    "\n",
    "Tensory\n",
    "https://pytorch.org/docs/stable/tensors.html podstawowa klasa w pakiecie autograd, przypomina tablice w Numpy, ale umożliwia operacje z wykorzystaniem GPU\n",
    "\n",
    "więcej:https://pytorch.org/tutorials/beginner/blitz/tensor_tutorial.html#getting-started"
   ]
  },
  {
   "cell_type": "code",
   "execution_count": 4,
   "metadata": {
    "colab": {},
    "colab_type": "code",
    "id": "cNPmnI228tRC"
   },
   "outputs": [
    {
     "ename": "ModuleNotFoundError",
     "evalue": "No module named 'torch'",
     "output_type": "error",
     "traceback": [
      "\u001b[1;31m---------------------------------------------------------------------------\u001b[0m",
      "\u001b[1;31mModuleNotFoundError\u001b[0m                       Traceback (most recent call last)",
      "\u001b[1;32m<ipython-input-4-8db725a56e03>\u001b[0m in \u001b[0;36m<module>\u001b[1;34m\u001b[0m\n\u001b[1;32m----> 1\u001b[1;33m \u001b[1;32mimport\u001b[0m \u001b[0mtorch\u001b[0m\u001b[1;33m\u001b[0m\u001b[1;33m\u001b[0m\u001b[0m\n\u001b[0m\u001b[0;32m      2\u001b[0m \u001b[1;32mimport\u001b[0m \u001b[0mnumpy\u001b[0m \u001b[1;32mas\u001b[0m \u001b[0mnp\u001b[0m\u001b[1;33m\u001b[0m\u001b[1;33m\u001b[0m\u001b[0m\n",
      "\u001b[1;31mModuleNotFoundError\u001b[0m: No module named 'torch'"
     ]
    }
   ],
   "source": [
    "import torch\n",
    "import numpy as np"
   ]
  },
  {
   "cell_type": "markdown",
   "metadata": {
    "colab_type": "text",
    "id": "A3nkcKZpxqqN"
   },
   "source": [
    "### W numpy:\n",
    "operacje wykonywane są na skalarach ,tablicach..."
   ]
  },
  {
   "cell_type": "code",
   "execution_count": 0,
   "metadata": {
    "colab": {
     "base_uri": "https://localhost:8080/",
     "height": 35
    },
    "colab_type": "code",
    "id": "WB1QuBprxp65",
    "outputId": "d2309ebe-25f5-4a76-b525-ce6e88451475"
   },
   "outputs": [
    {
     "data": {
      "text/plain": [
       "10"
      ]
     },
     "execution_count": 2,
     "metadata": {
      "tags": []
     },
     "output_type": "execute_result"
    }
   ],
   "source": [
    "# przykładowy skalar\n",
    "i=np.int(10)\n",
    "i"
   ]
  },
  {
   "cell_type": "code",
   "execution_count": 0,
   "metadata": {
    "colab": {
     "base_uri": "https://localhost:8080/",
     "height": 72
    },
    "colab_type": "code",
    "id": "Ic-y3NG8xqHt",
    "outputId": "f1c7234c-6f61-4915-e02a-3d106709f134"
   },
   "outputs": [
    {
     "name": "stdout",
     "output_type": "stream",
     "text": [
      "[[3 2]\n",
      " [7 1]]\n",
      "(2, 2)\n"
     ]
    }
   ],
   "source": [
    "#przykładowa macierz -tablica 2 wymiarowa\n",
    "\n",
    "matrix = np.array([[3,2],[7,1]])\n",
    "print(matrix)\n",
    "print(matrix.shape)"
   ]
  },
  {
   "cell_type": "code",
   "execution_count": 0,
   "metadata": {
    "colab": {
     "base_uri": "https://localhost:8080/",
     "height": 127
    },
    "colab_type": "code",
    "id": "W55-09vNylxa",
    "outputId": "04cc32aa-df79-4ab6-c29d-e932ea9753c4"
   },
   "outputs": [
    {
     "name": "stdout",
     "output_type": "stream",
     "text": [
      "[[[3 1 0]\n",
      "  [2 1 1]]\n",
      "\n",
      " [[7 1 2]\n",
      "  [1 1 3]]]\n",
      "(2, 2, 3)\n"
     ]
    }
   ],
   "source": [
    "#przykładowy tensor -tablica wielowymiarowa\n",
    "\n",
    "tensor = np.array([[[3,1,0],[2,1,1]],[[7,1,2],[1,1,3]]])\n",
    "print(tensor)\n",
    "print(tensor.shape)"
   ]
  },
  {
   "cell_type": "markdown",
   "metadata": {
    "colab_type": "text",
    "id": "410xmEVtz6uO"
   },
   "source": [
    "### W PyTorch \n",
    "podstawowym obiektem jest tensor"
   ]
  },
  {
   "cell_type": "code",
   "execution_count": 0,
   "metadata": {
    "colab": {
     "base_uri": "https://localhost:8080/",
     "height": 109
    },
    "colab_type": "code",
    "id": "gLRKzfC1-I3b",
    "outputId": "7dd954dc-fae4-4b81-8ddc-2ac529648520"
   },
   "outputs": [
    {
     "data": {
      "text/plain": [
       "tensor([[6.8105e-36, 0.0000e+00, 4.4842e-44],\n",
       "        [0.0000e+00,        nan, 0.0000e+00],\n",
       "        [2.1121e+20, 1.3614e-05, 8.4482e+20],\n",
       "        [2.0776e+20, 4.3676e-05, 8.4490e+20],\n",
       "        [8.2297e-10, 8.4275e-07, 5.0948e-14]])"
      ]
     },
     "execution_count": 7,
     "metadata": {
      "tags": []
     },
     "output_type": "execute_result"
    }
   ],
   "source": [
    "torch.empty(5, 3) # tensor o określonym wymiarze"
   ]
  },
  {
   "cell_type": "code",
   "execution_count": 0,
   "metadata": {
    "colab": {
     "base_uri": "https://localhost:8080/",
     "height": 109
    },
    "colab_type": "code",
    "id": "GM5fFgLI-JBk",
    "outputId": "4dd2ae1a-d47a-4a2e-a692-918fd5fbdece"
   },
   "outputs": [
    {
     "data": {
      "text/plain": [
       "tensor([[0.2945, 0.5546, 0.0480],\n",
       "        [0.5255, 0.5651, 0.6609],\n",
       "        [0.5721, 0.5728, 0.9370],\n",
       "        [0.6574, 0.0890, 0.8619],\n",
       "        [0.9190, 0.6834, 0.0633]])"
      ]
     },
     "execution_count": 8,
     "metadata": {
      "tags": []
     },
     "output_type": "execute_result"
    }
   ],
   "source": [
    "torch.rand(5,3) #losowe dane w tensorze"
   ]
  },
  {
   "cell_type": "code",
   "execution_count": 0,
   "metadata": {
    "colab": {
     "base_uri": "https://localhost:8080/",
     "height": 201
    },
    "colab_type": "code",
    "id": "SEtfLj6q-JLc",
    "outputId": "31509b65-5f07-4590-e6ba-ce541b0370f9"
   },
   "outputs": [
    {
     "name": "stdout",
     "output_type": "stream",
     "text": [
      "tensor([[0., 0., 0.],\n",
      "        [0., 0., 0.],\n",
      "        [0., 0., 0.],\n",
      "        [0., 0., 0.],\n",
      "        [0., 0., 0.]])\n",
      "tensor([[0, 0, 0],\n",
      "        [0, 0, 0],\n",
      "        [0, 0, 0],\n",
      "        [0, 0, 0],\n",
      "        [0, 0, 0]], dtype=torch.int32)\n"
     ]
    }
   ],
   "source": [
    "z=torch.zeros(5, 3) # określanie typu danych w tensorze\n",
    "print(z)\n",
    "z=torch.zeros(5, 3,dtype=torch.int) # określanie typu danych w tensorze\n",
    "print(z)"
   ]
  },
  {
   "cell_type": "code",
   "execution_count": 0,
   "metadata": {
    "colab": {
     "base_uri": "https://localhost:8080/",
     "height": 35
    },
    "colab_type": "code",
    "id": "hgBKqHYv-JXh",
    "outputId": "83e2426d-de01-4b16-8ecd-bc1a29a05838"
   },
   "outputs": [
    {
     "name": "stdout",
     "output_type": "stream",
     "text": [
      "tensor([5.5000, 3.0000], dtype=torch.float64)\n"
     ]
    }
   ],
   "source": [
    "x_numpy=np.array([5.5,3])\n",
    "x = torch.tensor(x_numpy) # tensor z tablicy numpy\n",
    "print(x)"
   ]
  },
  {
   "cell_type": "code",
   "execution_count": 0,
   "metadata": {
    "colab": {
     "base_uri": "https://localhost:8080/",
     "height": 72
    },
    "colab_type": "code",
    "id": "a0WQINl2-odK",
    "outputId": "e3001264-d0b8-4d9a-a744-6c636bb9d4df"
   },
   "outputs": [
    {
     "name": "stdout",
     "output_type": "stream",
     "text": [
      "tensor(5.5000, dtype=torch.float64)\n",
      "5.5\n",
      "<class 'float'>\n"
     ]
    }
   ],
   "source": [
    "print(x[0]) #pierwszy element jako tensor \n",
    "print(x[0].item()) #... skalar\n",
    "print(type(x[0].item()))"
   ]
  },
  {
   "cell_type": "code",
   "execution_count": 0,
   "metadata": {
    "colab": {
     "base_uri": "https://localhost:8080/",
     "height": 127
    },
    "colab_type": "code",
    "id": "5h_2379H_DOm",
    "outputId": "30968282-01d3-4dde-fa32-c894e90a7769"
   },
   "outputs": [
    {
     "name": "stdout",
     "output_type": "stream",
     "text": [
      "tensor([[1., 1., 1.],\n",
      "        [1., 1., 1.]])\n",
      "tensor([[2., 2., 2.],\n",
      "        [2., 2., 2.]])\n",
      "tensor([[6., 6., 6.],\n",
      "        [6., 6., 6.]])\n"
     ]
    }
   ],
   "source": [
    "#Działania na tensorach\n",
    "\n",
    "y = torch.ones(2,3)\n",
    "print(y)\n",
    "print(y*2)\n",
    "print(y+5)"
   ]
  },
  {
   "cell_type": "code",
   "execution_count": 0,
   "metadata": {
    "colab": {
     "base_uri": "https://localhost:8080/",
     "height": 366
    },
    "colab_type": "code",
    "id": "p5kIrv8v_kEd",
    "outputId": "bbb66c8a-e432-4c2c-c827-56e548bc3e63"
   },
   "outputs": [
    {
     "name": "stdout",
     "output_type": "stream",
     "text": [
      "tensor([1, 2, 3, 4, 5, 6])\n",
      "torch.Size([6])\n",
      "------------y1\n",
      "tensor([[1],\n",
      "        [2],\n",
      "        [3],\n",
      "        [4],\n",
      "        [5],\n",
      "        [6]])\n",
      "torch.Size([6, 1])\n",
      "------------y2\n",
      "tensor([[1, 2],\n",
      "        [3, 4],\n",
      "        [5, 6]])\n",
      "torch.Size([3, 2])\n",
      "------------y3\n",
      "tensor([[[1, 2, 3],\n",
      "         [4, 5, 6]]])\n",
      "torch.Size([1, 2, 3])\n"
     ]
    }
   ],
   "source": [
    "\n",
    "y = torch.arange(1,7)\n",
    "\n",
    "print(y)\n",
    "print(y.shape)\n",
    "\n",
    "#zmiana wymiarów\n",
    "y1=y.view(2,-1)\n",
    "print(\"------------y1\")\n",
    "print(y1)\n",
    "print(y1.shape)\n",
    "\n",
    "y2=y.view(3,2)\n",
    "print(\"------------y2\")\n",
    "print(y2)\n",
    "print(y2.shape)\n",
    "\n",
    "y3=y.view(-1,2,3)\n",
    "print(\"------------y3\")\n",
    "print(y3)\n",
    "print(y3.shape)"
   ]
  },
  {
   "cell_type": "code",
   "execution_count": 0,
   "metadata": {
    "colab": {
     "base_uri": "https://localhost:8080/",
     "height": 164
    },
    "colab_type": "code",
    "id": "PjeiedAPAEVf",
    "outputId": "7a89235e-5cd8-4f11-b927-04040ad26fe8"
   },
   "outputs": [
    {
     "name": "stdout",
     "output_type": "stream",
     "text": [
      "torch.Size([6])\n",
      "------------y4\n",
      "tensor([1, 2, 3, 4, 5, 6])\n",
      "torch.Size([6])\n",
      "------------y5\n",
      "tensor([[1, 2, 3, 4, 5, 6]])\n",
      "torch.Size([1, 6])\n",
      "torch.Size([6])\n"
     ]
    }
   ],
   "source": [
    "print(y.shape)\n",
    "print(\"------------y4\")\n",
    "y4=y.unsqueeze(1)\n",
    "print(y4)\n",
    "print(y4.shape)\n",
    "\n",
    "print(\"------------y5\")\n",
    "y5=y.unsqueeze(0)\n",
    "print(y5)\n",
    "print(y5.shape)\n",
    "print(y5.squeeze().shape)"
   ]
  },
  {
   "cell_type": "code",
   "execution_count": 0,
   "metadata": {
    "colab": {
     "base_uri": "https://localhost:8080/",
     "height": 109
    },
    "colab_type": "code",
    "id": "TAO-no1OD8FK",
    "outputId": "186b6e20-c19f-4af2-d557-03f247bffd4f"
   },
   "outputs": [
    {
     "name": "stdout",
     "output_type": "stream",
     "text": [
      "tensor([[1, 2],\n",
      "        [3, 4],\n",
      "        [5, 6]])\n",
      "tensor([[1, 3, 5],\n",
      "        [2, 4, 6]])\n"
     ]
    }
   ],
   "source": [
    "y6=y.view(3,-1)\n",
    "print(y6)\n",
    "print(y6.transpose(0,1))"
   ]
  },
  {
   "cell_type": "code",
   "execution_count": 0,
   "metadata": {
    "colab": {
     "base_uri": "https://localhost:8080/",
     "height": 54
    },
    "colab_type": "code",
    "id": "p6eTQU2wiaqb",
    "outputId": "ec1059ef-7684-4731-e7c5-cd7d66d0080d"
   },
   "outputs": [
    {
     "name": "stdout",
     "output_type": "stream",
     "text": [
      "torch.Size([2, 3])\n"
     ]
    },
    {
     "data": {
      "text/plain": [
       "torch.Size([3, 2])"
      ]
     },
     "execution_count": 56,
     "metadata": {
      "tags": []
     },
     "output_type": "execute_result"
    }
   ],
   "source": [
    "print(y6.T.shape)\n",
    "\n",
    "y6.shape"
   ]
  },
  {
   "cell_type": "markdown",
   "metadata": {
    "colab_type": "text",
    "id": "idz0u6hG3bpU"
   },
   "source": [
    "## Gradienty w pyTorch\n",
    "Ustwiając argument tensora requires_grad jako True, umożliwione jest rejestrowanie operacji wykonywanych na tym tensorze podczas obliczania gradientów. Wywołując metodę .backward() możemy automatycznie policzyć gradient dla zadanej zmiennej. Atrybut .grad przechowuje gradient dla danego tensora."
   ]
  },
  {
   "cell_type": "code",
   "execution_count": 0,
   "metadata": {
    "colab": {
     "base_uri": "https://localhost:8080/",
     "height": 35
    },
    "colab_type": "code",
    "id": "6PkCI-n2fY7C",
    "outputId": "d9cc0433-d781-48b8-fe4e-8860b4c10c9a"
   },
   "outputs": [
    {
     "name": "stdout",
     "output_type": "stream",
     "text": [
      "tensor([1., 2., 3.], requires_grad=True)\n"
     ]
    }
   ],
   "source": [
    "#tensor o wymarze [2]\n",
    "x = torch.tensor((1., 2., 3.), requires_grad = True) \n",
    "print(x)\n"
   ]
  },
  {
   "cell_type": "code",
   "execution_count": 0,
   "metadata": {
    "colab": {
     "base_uri": "https://localhost:8080/",
     "height": 35
    },
    "colab_type": "code",
    "id": "PaAnfdPlfdIa",
    "outputId": "7e619893-ce01-4cf4-e9b4-aec8d1b55b47"
   },
   "outputs": [
    {
     "name": "stdout",
     "output_type": "stream",
     "text": [
      "tensor([15., 31., 53.], grad_fn=<AddBackward0>)\n"
     ]
    }
   ],
   "source": [
    "y = 3 * torch.pow(x+1,2) + x+2\n",
    "print(y)"
   ]
  },
  {
   "cell_type": "code",
   "execution_count": 0,
   "metadata": {
    "colab": {
     "base_uri": "https://localhost:8080/",
     "height": 325
    },
    "colab_type": "code",
    "id": "_szX9xl2fdQQ",
    "outputId": "a00434a3-6bcc-4e5c-e660-d4c0d70b5572"
   },
   "outputs": [
    {
     "ename": "RuntimeError",
     "evalue": "ignored",
     "output_type": "error",
     "traceback": [
      "\u001b[0;31m---------------------------------------------------------------------------\u001b[0m",
      "\u001b[0;31mRuntimeError\u001b[0m                              Traceback (most recent call last)",
      "\u001b[0;32m<ipython-input-16-af5ffbb96bc5>\u001b[0m in \u001b[0;36m<module>\u001b[0;34m()\u001b[0m\n\u001b[0;32m----> 1\u001b[0;31m \u001b[0mprint\u001b[0m\u001b[0;34m(\u001b[0m\u001b[0my\u001b[0m\u001b[0;34m.\u001b[0m\u001b[0mbackward\u001b[0m\u001b[0;34m(\u001b[0m\u001b[0mx\u001b[0m\u001b[0;34m)\u001b[0m\u001b[0;34m)\u001b[0m\u001b[0;34m\u001b[0m\u001b[0;34m\u001b[0m\u001b[0m\n\u001b[0m",
      "\u001b[0;32m/usr/local/lib/python3.6/dist-packages/torch/tensor.py\u001b[0m in \u001b[0;36mbackward\u001b[0;34m(self, gradient, retain_graph, create_graph)\u001b[0m\n\u001b[1;32m    193\u001b[0m                 \u001b[0mproducts\u001b[0m\u001b[0;34m.\u001b[0m \u001b[0mDefaults\u001b[0m \u001b[0mto\u001b[0m\u001b[0;31m \u001b[0m\u001b[0;31m`\u001b[0m\u001b[0;31m`\u001b[0m\u001b[0;32mFalse\u001b[0m\u001b[0;31m`\u001b[0m\u001b[0;31m`\u001b[0m\u001b[0;34m.\u001b[0m\u001b[0;34m\u001b[0m\u001b[0;34m\u001b[0m\u001b[0m\n\u001b[1;32m    194\u001b[0m         \"\"\"\n\u001b[0;32m--> 195\u001b[0;31m         \u001b[0mtorch\u001b[0m\u001b[0;34m.\u001b[0m\u001b[0mautograd\u001b[0m\u001b[0;34m.\u001b[0m\u001b[0mbackward\u001b[0m\u001b[0;34m(\u001b[0m\u001b[0mself\u001b[0m\u001b[0;34m,\u001b[0m \u001b[0mgradient\u001b[0m\u001b[0;34m,\u001b[0m \u001b[0mretain_graph\u001b[0m\u001b[0;34m,\u001b[0m \u001b[0mcreate_graph\u001b[0m\u001b[0;34m)\u001b[0m\u001b[0;34m\u001b[0m\u001b[0;34m\u001b[0m\u001b[0m\n\u001b[0m\u001b[1;32m    196\u001b[0m \u001b[0;34m\u001b[0m\u001b[0m\n\u001b[1;32m    197\u001b[0m     \u001b[0;32mdef\u001b[0m \u001b[0mregister_hook\u001b[0m\u001b[0;34m(\u001b[0m\u001b[0mself\u001b[0m\u001b[0;34m,\u001b[0m \u001b[0mhook\u001b[0m\u001b[0;34m)\u001b[0m\u001b[0;34m:\u001b[0m\u001b[0;34m\u001b[0m\u001b[0;34m\u001b[0m\u001b[0m\n",
      "\u001b[0;32m/usr/local/lib/python3.6/dist-packages/torch/autograd/__init__.py\u001b[0m in \u001b[0;36mbackward\u001b[0;34m(tensors, grad_tensors, retain_graph, create_graph, grad_variables)\u001b[0m\n\u001b[1;32m     97\u001b[0m     Variable._execution_engine.run_backward(\n\u001b[1;32m     98\u001b[0m         \u001b[0mtensors\u001b[0m\u001b[0;34m,\u001b[0m \u001b[0mgrad_tensors\u001b[0m\u001b[0;34m,\u001b[0m \u001b[0mretain_graph\u001b[0m\u001b[0;34m,\u001b[0m \u001b[0mcreate_graph\u001b[0m\u001b[0;34m,\u001b[0m\u001b[0;34m\u001b[0m\u001b[0;34m\u001b[0m\u001b[0m\n\u001b[0;32m---> 99\u001b[0;31m         allow_unreachable=True)  # allow_unreachable flag\n\u001b[0m\u001b[1;32m    100\u001b[0m \u001b[0;34m\u001b[0m\u001b[0m\n\u001b[1;32m    101\u001b[0m \u001b[0;34m\u001b[0m\u001b[0m\n",
      "\u001b[0;31mRuntimeError\u001b[0m: Trying to backward through the graph a second time, but the buffers have already been freed. Specify retain_graph=True when calling backward the first time."
     ]
    }
   ],
   "source": [
    "y.backward(x)"
   ]
  },
  {
   "cell_type": "code",
   "execution_count": 0,
   "metadata": {
    "colab": {
     "base_uri": "https://localhost:8080/",
     "height": 35
    },
    "colab_type": "code",
    "id": "SKge1KXWln4g",
    "outputId": "cd6fecf1-5560-46dd-d4b9-40f80ddb8aeb"
   },
   "outputs": [
    {
     "data": {
      "text/plain": [
       "tensor([13., 38., 75.])"
      ]
     },
     "execution_count": 17,
     "metadata": {
      "tags": []
     },
     "output_type": "execute_result"
    }
   ],
   "source": [
    "x.grad"
   ]
  },
  {
   "cell_type": "markdown",
   "metadata": {
    "colab_type": "text",
    "id": "sR02hrcbFYQi"
   },
   "source": [
    "Powyższe obliczenia:\n",
    "$y=3(x+1)^2+x+2$, \n",
    "\n",
    "$\\frac{\\partial y_i}{\\partial x_i} = 6(x_i+1)+1$,\n",
    "\n",
    "a więc dla $x_1=1$ $y_1=13$ oraz $x_2=1$ $y_2=38$\n",
    "\n"
   ]
  },
  {
   "cell_type": "markdown",
   "metadata": {
    "colab_type": "text",
    "id": "MKcpd6QCgmY_"
   },
   "source": [
    "#### TorchVIZ"
   ]
  },
  {
   "cell_type": "code",
   "execution_count": 0,
   "metadata": {
    "colab": {
     "base_uri": "https://localhost:8080/",
     "height": 237
    },
    "colab_type": "code",
    "id": "qPf296gqBLq7",
    "outputId": "e7aa074d-41d7-4935-ed5b-4543061bc02b"
   },
   "outputs": [
    {
     "name": "stdout",
     "output_type": "stream",
     "text": [
      "Collecting torchviz\n",
      "\u001b[?25l  Downloading https://files.pythonhosted.org/packages/8f/8e/a9630c7786b846d08b47714dd363a051f5e37b4ea0e534460d8cdfc1644b/torchviz-0.0.1.tar.gz (41kB)\n",
      "\r",
      "\u001b[K     |████████                        | 10kB 20.0MB/s eta 0:00:01\r",
      "\u001b[K     |████████████████                | 20kB 2.2MB/s eta 0:00:01\r",
      "\u001b[K     |███████████████████████▉        | 30kB 3.2MB/s eta 0:00:01\r",
      "\u001b[K     |███████████████████████████████▉| 40kB 4.2MB/s eta 0:00:01\r",
      "\u001b[K     |████████████████████████████████| 51kB 3.3MB/s \n",
      "\u001b[?25hRequirement already satisfied: torch in /usr/local/lib/python3.6/dist-packages (from torchviz) (1.4.0)\n",
      "Requirement already satisfied: graphviz in /usr/local/lib/python3.6/dist-packages (from torchviz) (0.10.1)\n",
      "Building wheels for collected packages: torchviz\n",
      "  Building wheel for torchviz (setup.py) ... \u001b[?25l\u001b[?25hdone\n",
      "  Created wheel for torchviz: filename=torchviz-0.0.1-cp36-none-any.whl size=3523 sha256=1432cd9bab992d9b3f3fd19983faab427cf58bb91190a5674778ccee8470addc\n",
      "  Stored in directory: /root/.cache/pip/wheels/2a/c2/c5/b8b4d0f7992c735f6db5bfa3c5f354cf36502037ca2b585667\n",
      "Successfully built torchviz\n",
      "Installing collected packages: torchviz\n",
      "Successfully installed torchviz-0.0.1\n"
     ]
    }
   ],
   "source": [
    "!pip install torchviz"
   ]
  },
  {
   "cell_type": "code",
   "execution_count": 0,
   "metadata": {
    "colab": {
     "base_uri": "https://localhost:8080/",
     "height": 457
    },
    "colab_type": "code",
    "id": "q2Dm8gvkDFpl",
    "outputId": "118f3da4-dc89-4ff4-a7dd-cc85c0ce9126"
   },
   "outputs": [
    {
     "data": {
      "image/svg+xml": [
       "<?xml version=\"1.0\" encoding=\"UTF-8\" standalone=\"no\"?>\n",
       "<!DOCTYPE svg PUBLIC \"-//W3C//DTD SVG 1.1//EN\"\n",
       " \"http://www.w3.org/Graphics/SVG/1.1/DTD/svg11.dtd\">\n",
       "<!-- Generated by graphviz version 2.40.1 (20161225.0304)\n",
       " -->\n",
       "<!-- Title: %3 Pages: 1 -->\n",
       "<svg width=\"139pt\" height=\"327pt\"\n",
       " viewBox=\"0.00 0.00 138.50 327.00\" xmlns=\"http://www.w3.org/2000/svg\" xmlns:xlink=\"http://www.w3.org/1999/xlink\">\n",
       "<g id=\"graph0\" class=\"graph\" transform=\"scale(1 1) rotate(0) translate(4 323)\">\n",
       "<title>%3</title>\n",
       "<polygon fill=\"#ffffff\" stroke=\"transparent\" points=\"-4,4 -4,-323 134.5,-323 134.5,4 -4,4\"/>\n",
       "<!-- 140206381240216 -->\n",
       "<g id=\"node1\" class=\"node\">\n",
       "<title>140206381240216</title>\n",
       "<polygon fill=\"#caff70\" stroke=\"#000000\" points=\"92,-21 0,-21 0,0 92,0 92,-21\"/>\n",
       "<text text-anchor=\"middle\" x=\"46\" y=\"-7.4\" font-family=\"Times,serif\" font-size=\"12.00\" fill=\"#000000\">AddBackward0</text>\n",
       "</g>\n",
       "<!-- 140206381238312 -->\n",
       "<g id=\"node2\" class=\"node\">\n",
       "<title>140206381238312</title>\n",
       "<polygon fill=\"#d3d3d3\" stroke=\"#000000\" points=\"92,-78 0,-78 0,-57 92,-57 92,-78\"/>\n",
       "<text text-anchor=\"middle\" x=\"46\" y=\"-64.4\" font-family=\"Times,serif\" font-size=\"12.00\" fill=\"#000000\">AddBackward0</text>\n",
       "</g>\n",
       "<!-- 140206381238312&#45;&gt;140206381240216 -->\n",
       "<g id=\"edge1\" class=\"edge\">\n",
       "<title>140206381238312&#45;&gt;140206381240216</title>\n",
       "<path fill=\"none\" stroke=\"#000000\" d=\"M46,-56.7787C46,-49.6134 46,-39.9517 46,-31.3097\"/>\n",
       "<polygon fill=\"#000000\" stroke=\"#000000\" points=\"49.5001,-31.1732 46,-21.1732 42.5001,-31.1732 49.5001,-31.1732\"/>\n",
       "</g>\n",
       "<!-- 140208261538032 -->\n",
       "<g id=\"node3\" class=\"node\">\n",
       "<title>140208261538032</title>\n",
       "<polygon fill=\"#d3d3d3\" stroke=\"#000000\" points=\"128.5,-135 37.5,-135 37.5,-114 128.5,-114 128.5,-135\"/>\n",
       "<text text-anchor=\"middle\" x=\"83\" y=\"-121.4\" font-family=\"Times,serif\" font-size=\"12.00\" fill=\"#000000\">MulBackward0</text>\n",
       "</g>\n",
       "<!-- 140208261538032&#45;&gt;140206381238312 -->\n",
       "<g id=\"edge2\" class=\"edge\">\n",
       "<title>140208261538032&#45;&gt;140206381238312</title>\n",
       "<path fill=\"none\" stroke=\"#000000\" d=\"M76.0406,-113.7787C71.0793,-106.1357 64.2744,-95.6524 58.3956,-86.596\"/>\n",
       "<polygon fill=\"#000000\" stroke=\"#000000\" points=\"61.3087,-84.6553 52.9282,-78.1732 55.4372,-88.4667 61.3087,-84.6553\"/>\n",
       "</g>\n",
       "<!-- 140206380721712 -->\n",
       "<g id=\"node4\" class=\"node\">\n",
       "<title>140206380721712</title>\n",
       "<polygon fill=\"#d3d3d3\" stroke=\"#000000\" points=\"130.5,-192 37.5,-192 37.5,-171 130.5,-171 130.5,-192\"/>\n",
       "<text text-anchor=\"middle\" x=\"84\" y=\"-178.4\" font-family=\"Times,serif\" font-size=\"12.00\" fill=\"#000000\">PowBackward0</text>\n",
       "</g>\n",
       "<!-- 140206380721712&#45;&gt;140208261538032 -->\n",
       "<g id=\"edge3\" class=\"edge\">\n",
       "<title>140206380721712&#45;&gt;140208261538032</title>\n",
       "<path fill=\"none\" stroke=\"#000000\" d=\"M83.8119,-170.7787C83.6862,-163.6134 83.5167,-153.9517 83.3651,-145.3097\"/>\n",
       "<polygon fill=\"#000000\" stroke=\"#000000\" points=\"86.8622,-145.1102 83.1872,-135.1732 79.8633,-145.2331 86.8622,-145.1102\"/>\n",
       "</g>\n",
       "<!-- 140206380722496 -->\n",
       "<g id=\"node5\" class=\"node\">\n",
       "<title>140206380722496</title>\n",
       "<polygon fill=\"#d3d3d3\" stroke=\"#000000\" points=\"129,-249 37,-249 37,-228 129,-228 129,-249\"/>\n",
       "<text text-anchor=\"middle\" x=\"83\" y=\"-235.4\" font-family=\"Times,serif\" font-size=\"12.00\" fill=\"#000000\">AddBackward0</text>\n",
       "</g>\n",
       "<!-- 140206380722496&#45;&gt;140206380721712 -->\n",
       "<g id=\"edge4\" class=\"edge\">\n",
       "<title>140206380722496&#45;&gt;140206380721712</title>\n",
       "<path fill=\"none\" stroke=\"#000000\" d=\"M83.1881,-227.7787C83.3138,-220.6134 83.4833,-210.9517 83.6349,-202.3097\"/>\n",
       "<polygon fill=\"#000000\" stroke=\"#000000\" points=\"87.1367,-202.2331 83.8128,-192.1732 80.1378,-202.1102 87.1367,-202.2331\"/>\n",
       "</g>\n",
       "<!-- 140208261537864 -->\n",
       "<g id=\"node6\" class=\"node\">\n",
       "<title>140208261537864</title>\n",
       "<polygon fill=\"#add8e6\" stroke=\"#000000\" points=\"73,-319 19,-319 19,-285 73,-285 73,-319\"/>\n",
       "<text text-anchor=\"middle\" x=\"46\" y=\"-305.4\" font-family=\"Times,serif\" font-size=\"12.00\" fill=\"#000000\">x</text>\n",
       "<text text-anchor=\"middle\" x=\"46\" y=\"-292.4\" font-family=\"Times,serif\" font-size=\"12.00\" fill=\"#000000\"> (3)</text>\n",
       "</g>\n",
       "<!-- 140208261537864&#45;&gt;140206381238312 -->\n",
       "<g id=\"edge6\" class=\"edge\">\n",
       "<title>140208261537864&#45;&gt;140206381238312</title>\n",
       "<path fill=\"none\" stroke=\"#000000\" d=\"M38.5203,-284.7042C34.5271,-274.5222 30.0271,-261.2722 28,-249 18.2218,-189.8021 16.9829,-172.9798 28,-114 29.6765,-105.0252 33.0268,-95.5528 36.3871,-87.5161\"/>\n",
       "<polygon fill=\"#000000\" stroke=\"#000000\" points=\"39.6433,-88.8079 40.5238,-78.2497 33.2513,-85.9544 39.6433,-88.8079\"/>\n",
       "</g>\n",
       "<!-- 140208261537864&#45;&gt;140206380722496 -->\n",
       "<g id=\"edge5\" class=\"edge\">\n",
       "<title>140208261537864&#45;&gt;140206380722496</title>\n",
       "<path fill=\"none\" stroke=\"#000000\" d=\"M55.9153,-284.9832C60.7571,-276.6737 66.6069,-266.6342 71.6291,-258.015\"/>\n",
       "<polygon fill=\"#000000\" stroke=\"#000000\" points=\"74.6566,-259.771 76.6671,-249.3687 68.6085,-256.2469 74.6566,-259.771\"/>\n",
       "</g>\n",
       "</g>\n",
       "</svg>\n"
      ],
      "text/plain": [
       "<graphviz.dot.Digraph at 0x7f84578c8f60>"
      ]
     },
     "execution_count": 19,
     "metadata": {
      "tags": []
     },
     "output_type": "execute_result"
    }
   ],
   "source": [
    "from torchviz import *\n",
    "\n",
    "make_dot(y, params={\"x\":x})"
   ]
  },
  {
   "cell_type": "code",
   "execution_count": 0,
   "metadata": {
    "colab": {},
    "colab_type": "code",
    "id": "gxvcpsHR-i6S"
   },
   "outputs": [],
   "source": [
    "torch.manual_seed(42)\n",
    "a = torch.randn(1, requires_grad=True, dtype=torch.float)\n",
    "b = torch.randn(1, requires_grad=True, dtype=torch.float)\n",
    "\n",
    "x_train=np.array([0,1,2,3,4,5,6])\n",
    "y_train=np.array([5,10,15,21,26,30,34])\n",
    "\n",
    "x_train_tensor = torch.from_numpy(x_train).float()\n",
    "y_train_tensor = torch.from_numpy(y_train).float()\n",
    "\n",
    "\n",
    "yhat = a + b * x_train_tensor\n",
    "error = y_train_tensor - yhat\n",
    "loss = (error ** 2).mean()"
   ]
  },
  {
   "cell_type": "code",
   "execution_count": 0,
   "metadata": {
    "colab": {
     "base_uri": "https://localhost:8080/",
     "height": 246
    },
    "colab_type": "code",
    "id": "7o9TxhmTADZP",
    "outputId": "38dec1c9-c72e-4802-8421-4d286606b2f8"
   },
   "outputs": [
    {
     "data": {
      "image/svg+xml": [
       "<?xml version=\"1.0\" encoding=\"UTF-8\" standalone=\"no\"?>\n",
       "<!DOCTYPE svg PUBLIC \"-//W3C//DTD SVG 1.1//EN\"\n",
       " \"http://www.w3.org/Graphics/SVG/1.1/DTD/svg11.dtd\">\n",
       "<!-- Generated by graphviz version 2.40.1 (20161225.0304)\n",
       " -->\n",
       "<!-- Title: %3 Pages: 1 -->\n",
       "<svg width=\"172pt\" height=\"169pt\"\n",
       " viewBox=\"0.00 0.00 171.50 169.00\" xmlns=\"http://www.w3.org/2000/svg\" xmlns:xlink=\"http://www.w3.org/1999/xlink\">\n",
       "<g id=\"graph0\" class=\"graph\" transform=\"scale(1 1) rotate(0) translate(4 165)\">\n",
       "<title>%3</title>\n",
       "<polygon fill=\"#ffffff\" stroke=\"transparent\" points=\"-4,4 -4,-165 167.5,-165 167.5,4 -4,4\"/>\n",
       "<!-- 140206172745968 -->\n",
       "<g id=\"node1\" class=\"node\">\n",
       "<title>140206172745968</title>\n",
       "<polygon fill=\"#caff70\" stroke=\"#000000\" points=\"118,-21 26,-21 26,0 118,0 118,-21\"/>\n",
       "<text text-anchor=\"middle\" x=\"72\" y=\"-7.4\" font-family=\"Times,serif\" font-size=\"12.00\" fill=\"#000000\">AddBackward0</text>\n",
       "</g>\n",
       "<!-- 140206172746472 -->\n",
       "<g id=\"node2\" class=\"node\">\n",
       "<title>140206172746472</title>\n",
       "<polygon fill=\"#add8e6\" stroke=\"#000000\" points=\"54,-91 0,-91 0,-57 54,-57 54,-91\"/>\n",
       "<text text-anchor=\"middle\" x=\"27\" y=\"-77.4\" font-family=\"Times,serif\" font-size=\"12.00\" fill=\"#000000\">a</text>\n",
       "<text text-anchor=\"middle\" x=\"27\" y=\"-64.4\" font-family=\"Times,serif\" font-size=\"12.00\" fill=\"#000000\"> (1)</text>\n",
       "</g>\n",
       "<!-- 140206172746472&#45;&gt;140206172745968 -->\n",
       "<g id=\"edge1\" class=\"edge\">\n",
       "<title>140206172746472&#45;&gt;140206172745968</title>\n",
       "<path fill=\"none\" stroke=\"#000000\" d=\"M39.0592,-56.9832C45.0104,-48.5853 52.2139,-38.4204 58.3651,-29.7404\"/>\n",
       "<polygon fill=\"#000000\" stroke=\"#000000\" points=\"61.3714,-31.5514 64.2978,-21.3687 55.6601,-27.504 61.3714,-31.5514\"/>\n",
       "</g>\n",
       "<!-- 140206172747032 -->\n",
       "<g id=\"node3\" class=\"node\">\n",
       "<title>140206172747032</title>\n",
       "<polygon fill=\"#d3d3d3\" stroke=\"#000000\" points=\"163.5,-84.5 72.5,-84.5 72.5,-63.5 163.5,-63.5 163.5,-84.5\"/>\n",
       "<text text-anchor=\"middle\" x=\"118\" y=\"-70.9\" font-family=\"Times,serif\" font-size=\"12.00\" fill=\"#000000\">MulBackward0</text>\n",
       "</g>\n",
       "<!-- 140206172747032&#45;&gt;140206172745968 -->\n",
       "<g id=\"edge2\" class=\"edge\">\n",
       "<title>140206172747032&#45;&gt;140206172745968</title>\n",
       "<path fill=\"none\" stroke=\"#000000\" d=\"M110.1967,-63.2281C103.4817,-53.9585 93.6386,-40.3707 85.6264,-29.3104\"/>\n",
       "<polygon fill=\"#000000\" stroke=\"#000000\" points=\"88.3891,-27.1579 79.688,-21.1128 82.7202,-31.2645 88.3891,-27.1579\"/>\n",
       "</g>\n",
       "<!-- 140206172749440 -->\n",
       "<g id=\"node4\" class=\"node\">\n",
       "<title>140206172749440</title>\n",
       "<polygon fill=\"#add8e6\" stroke=\"#000000\" points=\"145,-161 91,-161 91,-127 145,-127 145,-161\"/>\n",
       "<text text-anchor=\"middle\" x=\"118\" y=\"-147.4\" font-family=\"Times,serif\" font-size=\"12.00\" fill=\"#000000\">b</text>\n",
       "<text text-anchor=\"middle\" x=\"118\" y=\"-134.4\" font-family=\"Times,serif\" font-size=\"12.00\" fill=\"#000000\"> (1)</text>\n",
       "</g>\n",
       "<!-- 140206172749440&#45;&gt;140206172747032 -->\n",
       "<g id=\"edge3\" class=\"edge\">\n",
       "<title>140206172749440&#45;&gt;140206172747032</title>\n",
       "<path fill=\"none\" stroke=\"#000000\" d=\"M118,-126.6966C118,-117.0634 118,-105.003 118,-94.8518\"/>\n",
       "<polygon fill=\"#000000\" stroke=\"#000000\" points=\"121.5001,-94.7912 118,-84.7913 114.5001,-94.7913 121.5001,-94.7912\"/>\n",
       "</g>\n",
       "</g>\n",
       "</svg>\n"
      ],
      "text/plain": [
       "<graphviz.dot.Digraph at 0x7f844b1f3198>"
      ]
     },
     "execution_count": 96,
     "metadata": {
      "tags": []
     },
     "output_type": "execute_result"
    }
   ],
   "source": [
    "make_dot(yhat, params={\"a\":a, \"b\":b})"
   ]
  },
  {
   "cell_type": "markdown",
   "metadata": {
    "colab_type": "text",
    "id": "09eArm-xfxUS"
   },
   "source": [
    "\n",
    "\n",
    "### Zadanie 1.\n",
    "Korzystając z pyTorch oblicz gradient dla $z=y^2+(y+1)^2$, $y=x^2$ , x=[[ 1., 2., 3.], [4., 5., 6.]] i utwórz wizualizację grafu obliczeń.\n",
    "\n",
    "\n"
   ]
  },
  {
   "cell_type": "code",
   "execution_count": 0,
   "metadata": {
    "colab": {
     "base_uri": "https://localhost:8080/",
     "height": 90
    },
    "colab_type": "code",
    "id": "v3pXYqh3WQ9l",
    "outputId": "20d75213-e97e-4a86-a16b-242a78a1c6ca"
   },
   "outputs": [
    {
     "name": "stdout",
     "output_type": "stream",
     "text": [
      "tensor([[ 1.,  4.,  9.],\n",
      "        [16., 25., 36.]], dtype=torch.float64, grad_fn=<PowBackward0>)\n",
      "tensor([[   5.,   41.,  181.],\n",
      "        [ 545., 1301., 2665.]], dtype=torch.float64, grad_fn=<AddBackward0>)\n"
     ]
    }
   ],
   "source": [
    "x_array = np.array([[ 1., 2., 3.], [4., 5., 6.]])\n",
    "x = torch.tensor(x_array, requires_grad = True) \n",
    "y = torch.pow(x, 2)\n",
    "z = torch.pow(y, 2) + torch.pow(y+1, 2)\n",
    "\n",
    "print(y)\n",
    "print(z)"
   ]
  },
  {
   "cell_type": "code",
   "execution_count": 0,
   "metadata": {
    "colab": {
     "base_uri": "https://localhost:8080/",
     "height": 54
    },
    "colab_type": "code",
    "id": "ZdZDsF93ZuE1",
    "outputId": "007380e9-49f3-4130-a8f6-83328a817cdc"
   },
   "outputs": [
    {
     "data": {
      "text/plain": [
       "tensor([[ 2.,  8., 18.],\n",
       "        [32., 50., 72.]], dtype=torch.float64)"
      ]
     },
     "execution_count": 80,
     "metadata": {
      "tags": []
     },
     "output_type": "execute_result"
    }
   ],
   "source": [
    "y.backward(x, retain_graph=True)\n",
    "x.grad"
   ]
  },
  {
   "cell_type": "code",
   "execution_count": 0,
   "metadata": {
    "colab": {
     "base_uri": "https://localhost:8080/",
     "height": 54
    },
    "colab_type": "code",
    "id": "OcBwiWyzZ_nW",
    "outputId": "a3cd332e-ffc4-4c01-e865-22e569b14f54"
   },
   "outputs": [
    {
     "data": {
      "text/plain": [
       "tensor([[1.4000e+01, 2.9600e+02, 2.0700e+03],\n",
       "        [8.4800e+03, 2.5550e+04, 6.3144e+04]], dtype=torch.float64)"
      ]
     },
     "execution_count": 81,
     "metadata": {
      "tags": []
     },
     "output_type": "execute_result"
    }
   ],
   "source": [
    "z.backward(y) \n",
    "x.grad"
   ]
  },
  {
   "cell_type": "code",
   "execution_count": 0,
   "metadata": {
    "colab": {
     "base_uri": "https://localhost:8080/",
     "height": 381
    },
    "colab_type": "code",
    "id": "4Bq7DyW8bO4h",
    "outputId": "a0b79f7c-5aec-40af-ec92-7a99381ef12e"
   },
   "outputs": [
    {
     "data": {
      "image/svg+xml": [
       "<?xml version=\"1.0\" encoding=\"UTF-8\" standalone=\"no\"?>\n",
       "<!DOCTYPE svg PUBLIC \"-//W3C//DTD SVG 1.1//EN\"\n",
       " \"http://www.w3.org/Graphics/SVG/1.1/DTD/svg11.dtd\">\n",
       "<!-- Generated by graphviz version 2.40.1 (20161225.0304)\n",
       " -->\n",
       "<!-- Title: %3 Pages: 1 -->\n",
       "<svg width=\"212pt\" height=\"270pt\"\n",
       " viewBox=\"0.00 0.00 212.00 270.00\" xmlns=\"http://www.w3.org/2000/svg\" xmlns:xlink=\"http://www.w3.org/1999/xlink\">\n",
       "<g id=\"graph0\" class=\"graph\" transform=\"scale(1 1) rotate(0) translate(4 266)\">\n",
       "<title>%3</title>\n",
       "<polygon fill=\"#ffffff\" stroke=\"transparent\" points=\"-4,4 -4,-266 208,-266 208,4 -4,4\"/>\n",
       "<!-- 140206174214744 -->\n",
       "<g id=\"node1\" class=\"node\">\n",
       "<title>140206174214744</title>\n",
       "<polygon fill=\"#caff70\" stroke=\"#000000\" points=\"147.5,-21 55.5,-21 55.5,0 147.5,0 147.5,-21\"/>\n",
       "<text text-anchor=\"middle\" x=\"101.5\" y=\"-7.4\" font-family=\"Times,serif\" font-size=\"12.00\" fill=\"#000000\">AddBackward0</text>\n",
       "</g>\n",
       "<!-- 140206174213792 -->\n",
       "<g id=\"node2\" class=\"node\">\n",
       "<title>140206174213792</title>\n",
       "<polygon fill=\"#d3d3d3\" stroke=\"#000000\" points=\"93,-78 0,-78 0,-57 93,-57 93,-78\"/>\n",
       "<text text-anchor=\"middle\" x=\"46.5\" y=\"-64.4\" font-family=\"Times,serif\" font-size=\"12.00\" fill=\"#000000\">PowBackward0</text>\n",
       "</g>\n",
       "<!-- 140206174213792&#45;&gt;140206174214744 -->\n",
       "<g id=\"edge1\" class=\"edge\">\n",
       "<title>140206174213792&#45;&gt;140206174214744</title>\n",
       "<path fill=\"none\" stroke=\"#000000\" d=\"M56.8451,-56.7787C64.5272,-48.8173 75.1831,-37.7739 84.1589,-28.4717\"/>\n",
       "<polygon fill=\"#000000\" stroke=\"#000000\" points=\"86.7763,-30.7997 91.2013,-21.1732 81.7389,-25.9391 86.7763,-30.7997\"/>\n",
       "</g>\n",
       "<!-- 140206174212448 -->\n",
       "<g id=\"node3\" class=\"node\">\n",
       "<title>140206174212448</title>\n",
       "<polygon fill=\"#d3d3d3\" stroke=\"#000000\" points=\"148,-192 55,-192 55,-171 148,-171 148,-192\"/>\n",
       "<text text-anchor=\"middle\" x=\"101.5\" y=\"-178.4\" font-family=\"Times,serif\" font-size=\"12.00\" fill=\"#000000\">PowBackward0</text>\n",
       "</g>\n",
       "<!-- 140206174212448&#45;&gt;140206174213792 -->\n",
       "<g id=\"edge2\" class=\"edge\">\n",
       "<title>140206174212448&#45;&gt;140206174213792</title>\n",
       "<path fill=\"none\" stroke=\"#000000\" d=\"M96.4243,-170.9795C87.2621,-151.9888 67.8243,-111.6995 56.0889,-87.3751\"/>\n",
       "<polygon fill=\"#000000\" stroke=\"#000000\" points=\"59.2215,-85.8133 51.7239,-78.3276 52.9169,-88.8551 59.2215,-85.8133\"/>\n",
       "</g>\n",
       "<!-- 140206174212392 -->\n",
       "<g id=\"node6\" class=\"node\">\n",
       "<title>140206174212392</title>\n",
       "<polygon fill=\"#d3d3d3\" stroke=\"#000000\" points=\"193.5,-135 101.5,-135 101.5,-114 193.5,-114 193.5,-135\"/>\n",
       "<text text-anchor=\"middle\" x=\"147.5\" y=\"-121.4\" font-family=\"Times,serif\" font-size=\"12.00\" fill=\"#000000\">AddBackward0</text>\n",
       "</g>\n",
       "<!-- 140206174212448&#45;&gt;140206174212392 -->\n",
       "<g id=\"edge6\" class=\"edge\">\n",
       "<title>140206174212448&#45;&gt;140206174212392</title>\n",
       "<path fill=\"none\" stroke=\"#000000\" d=\"M110.1522,-170.7787C116.4488,-162.9765 125.134,-152.2144 132.5445,-143.0318\"/>\n",
       "<polygon fill=\"#000000\" stroke=\"#000000\" points=\"135.33,-145.1533 138.8865,-135.1732 129.8826,-140.7571 135.33,-145.1533\"/>\n",
       "</g>\n",
       "<!-- 140206174215136 -->\n",
       "<g id=\"node4\" class=\"node\">\n",
       "<title>140206174215136</title>\n",
       "<polygon fill=\"#add8e6\" stroke=\"#000000\" points=\"128.5,-262 74.5,-262 74.5,-228 128.5,-228 128.5,-262\"/>\n",
       "<text text-anchor=\"middle\" x=\"101.5\" y=\"-248.4\" font-family=\"Times,serif\" font-size=\"12.00\" fill=\"#000000\">x</text>\n",
       "<text text-anchor=\"middle\" x=\"101.5\" y=\"-235.4\" font-family=\"Times,serif\" font-size=\"12.00\" fill=\"#000000\"> (2, 3)</text>\n",
       "</g>\n",
       "<!-- 140206174215136&#45;&gt;140206174212448 -->\n",
       "<g id=\"edge3\" class=\"edge\">\n",
       "<title>140206174215136&#45;&gt;140206174212448</title>\n",
       "<path fill=\"none\" stroke=\"#000000\" d=\"M101.5,-227.9832C101.5,-220.1157 101.5,-210.6973 101.5,-202.4019\"/>\n",
       "<polygon fill=\"#000000\" stroke=\"#000000\" points=\"105.0001,-202.3686 101.5,-192.3687 98.0001,-202.3687 105.0001,-202.3686\"/>\n",
       "</g>\n",
       "<!-- 140206174213512 -->\n",
       "<g id=\"node5\" class=\"node\">\n",
       "<title>140206174213512</title>\n",
       "<polygon fill=\"#d3d3d3\" stroke=\"#000000\" points=\"204,-78 111,-78 111,-57 204,-57 204,-78\"/>\n",
       "<text text-anchor=\"middle\" x=\"157.5\" y=\"-64.4\" font-family=\"Times,serif\" font-size=\"12.00\" fill=\"#000000\">PowBackward0</text>\n",
       "</g>\n",
       "<!-- 140206174213512&#45;&gt;140206174214744 -->\n",
       "<g id=\"edge4\" class=\"edge\">\n",
       "<title>140206174213512&#45;&gt;140206174214744</title>\n",
       "<path fill=\"none\" stroke=\"#000000\" d=\"M146.9668,-56.7787C139.145,-48.8173 128.2954,-37.7739 119.1564,-28.4717\"/>\n",
       "<polygon fill=\"#000000\" stroke=\"#000000\" points=\"121.4909,-25.8537 111.9859,-21.1732 116.4975,-30.7595 121.4909,-25.8537\"/>\n",
       "</g>\n",
       "<!-- 140206174212392&#45;&gt;140206174213512 -->\n",
       "<g id=\"edge5\" class=\"edge\">\n",
       "<title>140206174212392&#45;&gt;140206174213512</title>\n",
       "<path fill=\"none\" stroke=\"#000000\" d=\"M149.3809,-113.7787C150.638,-106.6134 152.333,-96.9517 153.8492,-88.3097\"/>\n",
       "<polygon fill=\"#000000\" stroke=\"#000000\" points=\"157.3468,-88.6276 155.6275,-78.1732 150.4521,-87.4179 157.3468,-88.6276\"/>\n",
       "</g>\n",
       "</g>\n",
       "</svg>\n"
      ],
      "text/plain": [
       "<graphviz.dot.Digraph at 0x7f844b359828>"
      ]
     },
     "execution_count": 82,
     "metadata": {
      "tags": []
     },
     "output_type": "execute_result"
    }
   ],
   "source": [
    "make_dot(z, params={\"x\":x, \"y\":y})"
   ]
  },
  {
   "cell_type": "markdown",
   "metadata": {
    "colab_type": "text",
    "id": "jwC3KJeCF77q"
   },
   "source": [
    "### Zadanie 2\n",
    "\n",
    "Mając podaną wizualizaję grafu obliczeń, utwórz odpowiednie zmienne i wykonaj takie obliczenia w pytorch aby go odtworzyć. (Dowolne wartości)"
   ]
  },
  {
   "cell_type": "code",
   "execution_count": 0,
   "metadata": {
    "colab": {
     "base_uri": "https://localhost:8080/",
     "height": 397
    },
    "colab_type": "code",
    "id": "BFLbHqwDJc_9",
    "outputId": "271914b6-f439-4a47-94ea-ef73e31dfa83"
   },
   "outputs": [
    {
     "data": {
      "image/svg+xml": [
       "<?xml version=\"1.0\" encoding=\"UTF-8\" standalone=\"no\"?>\n",
       "<!DOCTYPE svg PUBLIC \"-//W3C//DTD SVG 1.1//EN\"\n",
       " \"http://www.w3.org/Graphics/SVG/1.1/DTD/svg11.dtd\">\n",
       "<!-- Generated by graphviz version 2.40.1 (20161225.0304)\n",
       " -->\n",
       "<!-- Title: %3 Pages: 1 -->\n",
       "<svg width=\"271pt\" height=\"283pt\"\n",
       " viewBox=\"0.00 0.00 271.00 283.00\" xmlns=\"http://www.w3.org/2000/svg\" xmlns:xlink=\"http://www.w3.org/1999/xlink\">\n",
       "<g id=\"graph0\" class=\"graph\" transform=\"scale(1 1) rotate(0) translate(4 279)\">\n",
       "<title>%3</title>\n",
       "<polygon fill=\"#ffffff\" stroke=\"transparent\" points=\"-4,4 -4,-279 267,-279 267,4 -4,4\"/>\n",
       "<!-- 140413487408632 -->\n",
       "<g id=\"node1\" class=\"node\">\n",
       "<title>140413487408632</title>\n",
       "<polygon fill=\"#caff70\" stroke=\"#000000\" points=\"146,-21 56,-21 56,0 146,0 146,-21\"/>\n",
       "<text text-anchor=\"middle\" x=\"101\" y=\"-7.4\" font-family=\"Times,serif\" font-size=\"12.00\" fill=\"#000000\">SubBackward0</text>\n",
       "</g>\n",
       "<!-- 140413487408576 -->\n",
       "<g id=\"node2\" class=\"node\">\n",
       "<title>140413487408576</title>\n",
       "<polygon fill=\"#d3d3d3\" stroke=\"#000000\" points=\"92,-78 0,-78 0,-57 92,-57 92,-78\"/>\n",
       "<text text-anchor=\"middle\" x=\"46\" y=\"-64.4\" font-family=\"Times,serif\" font-size=\"12.00\" fill=\"#000000\">AddBackward0</text>\n",
       "</g>\n",
       "<!-- 140413487408576&#45;&gt;140413487408632 -->\n",
       "<g id=\"edge1\" class=\"edge\">\n",
       "<title>140413487408576&#45;&gt;140413487408632</title>\n",
       "<path fill=\"none\" stroke=\"#000000\" d=\"M56.3451,-56.7787C64.0272,-48.8173 74.6831,-37.7739 83.6589,-28.4717\"/>\n",
       "<polygon fill=\"#000000\" stroke=\"#000000\" points=\"86.2763,-30.7997 90.7013,-21.1732 81.2389,-25.9391 86.2763,-30.7997\"/>\n",
       "</g>\n",
       "<!-- 140413487408856 -->\n",
       "<g id=\"node3\" class=\"node\">\n",
       "<title>140413487408856</title>\n",
       "<polygon fill=\"#d3d3d3\" stroke=\"#000000\" points=\"91.5,-135 .5,-135 .5,-114 91.5,-114 91.5,-135\"/>\n",
       "<text text-anchor=\"middle\" x=\"46\" y=\"-121.4\" font-family=\"Times,serif\" font-size=\"12.00\" fill=\"#000000\">MulBackward0</text>\n",
       "</g>\n",
       "<!-- 140413487408856&#45;&gt;140413487408576 -->\n",
       "<g id=\"edge2\" class=\"edge\">\n",
       "<title>140413487408856&#45;&gt;140413487408576</title>\n",
       "<path fill=\"none\" stroke=\"#000000\" d=\"M46,-113.7787C46,-106.6134 46,-96.9517 46,-88.3097\"/>\n",
       "<polygon fill=\"#000000\" stroke=\"#000000\" points=\"49.5001,-88.1732 46,-78.1732 42.5001,-88.1732 49.5001,-88.1732\"/>\n",
       "</g>\n",
       "<!-- 140413487268640 -->\n",
       "<g id=\"node4\" class=\"node\">\n",
       "<title>140413487268640</title>\n",
       "<polygon fill=\"#add8e6\" stroke=\"#000000\" points=\"105,-205 51,-205 51,-171 105,-171 105,-205\"/>\n",
       "<text text-anchor=\"middle\" x=\"78\" y=\"-191.4\" font-family=\"Times,serif\" font-size=\"12.00\" fill=\"#000000\">x</text>\n",
       "<text text-anchor=\"middle\" x=\"78\" y=\"-178.4\" font-family=\"Times,serif\" font-size=\"12.00\" fill=\"#000000\"> (2, 2)</text>\n",
       "</g>\n",
       "<!-- 140413487268640&#45;&gt;140413487408856 -->\n",
       "<g id=\"edge3\" class=\"edge\">\n",
       "<title>140413487268640&#45;&gt;140413487408856</title>\n",
       "<path fill=\"none\" stroke=\"#000000\" d=\"M69.4246,-170.9832C65.3262,-162.8505 60.3928,-153.0606 56.1125,-144.567\"/>\n",
       "<polygon fill=\"#000000\" stroke=\"#000000\" points=\"59.103,-142.7237 51.4771,-135.3687 52.8519,-145.8739 59.103,-142.7237\"/>\n",
       "</g>\n",
       "<!-- 140413487410200 -->\n",
       "<g id=\"node5\" class=\"node\">\n",
       "<title>140413487410200</title>\n",
       "<polygon fill=\"#d3d3d3\" stroke=\"#000000\" points=\"202,-78 110,-78 110,-57 202,-57 202,-78\"/>\n",
       "<text text-anchor=\"middle\" x=\"156\" y=\"-64.4\" font-family=\"Times,serif\" font-size=\"12.00\" fill=\"#000000\">AddBackward0</text>\n",
       "</g>\n",
       "<!-- 140413487268640&#45;&gt;140413487410200 -->\n",
       "<g id=\"edge9\" class=\"edge\">\n",
       "<title>140413487268640&#45;&gt;140413487410200</title>\n",
       "<path fill=\"none\" stroke=\"#000000\" d=\"M89.0101,-170.9909C103.4044,-148.7535 128.5504,-109.9062 143.6004,-86.6558\"/>\n",
       "<polygon fill=\"#000000\" stroke=\"#000000\" points=\"146.6958,-88.3148 149.1916,-78.0181 140.8194,-84.511 146.6958,-88.3148\"/>\n",
       "</g>\n",
       "<!-- 140413487410200&#45;&gt;140413487408632 -->\n",
       "<g id=\"edge4\" class=\"edge\">\n",
       "<title>140413487410200&#45;&gt;140413487408632</title>\n",
       "<path fill=\"none\" stroke=\"#000000\" d=\"M145.6549,-56.7787C137.9728,-48.8173 127.3169,-37.7739 118.3411,-28.4717\"/>\n",
       "<polygon fill=\"#000000\" stroke=\"#000000\" points=\"120.7611,-25.9391 111.2987,-21.1732 115.7237,-30.7997 120.7611,-25.9391\"/>\n",
       "</g>\n",
       "<!-- 140413487409584 -->\n",
       "<g id=\"node6\" class=\"node\">\n",
       "<title>140413487409584</title>\n",
       "<polygon fill=\"#d3d3d3\" stroke=\"#000000\" points=\"252,-135 148,-135 148,-114 252,-114 252,-135\"/>\n",
       "<text text-anchor=\"middle\" x=\"200\" y=\"-121.4\" font-family=\"Times,serif\" font-size=\"12.00\" fill=\"#000000\">PermuteBackward</text>\n",
       "</g>\n",
       "<!-- 140413487409584&#45;&gt;140413487410200 -->\n",
       "<g id=\"edge5\" class=\"edge\">\n",
       "<title>140413487409584&#45;&gt;140413487410200</title>\n",
       "<path fill=\"none\" stroke=\"#000000\" d=\"M191.7239,-113.7787C185.7626,-106.0561 177.5629,-95.4337 170.5226,-86.3134\"/>\n",
       "<polygon fill=\"#000000\" stroke=\"#000000\" points=\"173.1201,-83.9504 164.239,-78.1732 167.5789,-88.2278 173.1201,-83.9504\"/>\n",
       "</g>\n",
       "<!-- 140413487408520 -->\n",
       "<g id=\"node7\" class=\"node\">\n",
       "<title>140413487408520</title>\n",
       "<polygon fill=\"#d3d3d3\" stroke=\"#000000\" points=\"246,-198.5 154,-198.5 154,-177.5 246,-177.5 246,-198.5\"/>\n",
       "<text text-anchor=\"middle\" x=\"200\" y=\"-184.9\" font-family=\"Times,serif\" font-size=\"12.00\" fill=\"#000000\">AddBackward0</text>\n",
       "</g>\n",
       "<!-- 140413487408520&#45;&gt;140413487409584 -->\n",
       "<g id=\"edge6\" class=\"edge\">\n",
       "<title>140413487408520&#45;&gt;140413487409584</title>\n",
       "<path fill=\"none\" stroke=\"#000000\" d=\"M200,-177.2281C200,-168.5091 200,-155.9699 200,-145.3068\"/>\n",
       "<polygon fill=\"#000000\" stroke=\"#000000\" points=\"203.5001,-145.1128 200,-135.1128 196.5001,-145.1129 203.5001,-145.1128\"/>\n",
       "</g>\n",
       "<!-- 140413487270376 -->\n",
       "<g id=\"node8\" class=\"node\">\n",
       "<title>140413487270376</title>\n",
       "<polygon fill=\"#add8e6\" stroke=\"#000000\" points=\"191,-275 137,-275 137,-241 191,-241 191,-275\"/>\n",
       "<text text-anchor=\"middle\" x=\"164\" y=\"-261.4\" font-family=\"Times,serif\" font-size=\"12.00\" fill=\"#000000\">z</text>\n",
       "<text text-anchor=\"middle\" x=\"164\" y=\"-248.4\" font-family=\"Times,serif\" font-size=\"12.00\" fill=\"#000000\"> (1)</text>\n",
       "</g>\n",
       "<!-- 140413487270376&#45;&gt;140413487408520 -->\n",
       "<g id=\"edge7\" class=\"edge\">\n",
       "<title>140413487270376&#45;&gt;140413487408520</title>\n",
       "<path fill=\"none\" stroke=\"#000000\" d=\"M172.8989,-240.6966C178.0112,-230.756 184.4528,-218.2307 189.773,-207.8859\"/>\n",
       "<polygon fill=\"#000000\" stroke=\"#000000\" points=\"192.9892,-209.2849 194.4502,-198.7913 186.7642,-206.0834 192.9892,-209.2849\"/>\n",
       "</g>\n",
       "<!-- 140413510077016 -->\n",
       "<g id=\"node9\" class=\"node\">\n",
       "<title>140413510077016</title>\n",
       "<polygon fill=\"#add8e6\" stroke=\"#000000\" points=\"263,-275 209,-275 209,-241 263,-241 263,-275\"/>\n",
       "<text text-anchor=\"middle\" x=\"236\" y=\"-261.4\" font-family=\"Times,serif\" font-size=\"12.00\" fill=\"#000000\">y</text>\n",
       "<text text-anchor=\"middle\" x=\"236\" y=\"-248.4\" font-family=\"Times,serif\" font-size=\"12.00\" fill=\"#000000\"> (2, 2)</text>\n",
       "</g>\n",
       "<!-- 140413510077016&#45;&gt;140413487408520 -->\n",
       "<g id=\"edge8\" class=\"edge\">\n",
       "<title>140413510077016&#45;&gt;140413487408520</title>\n",
       "<path fill=\"none\" stroke=\"#000000\" d=\"M227.1011,-240.6966C221.9888,-230.756 215.5472,-218.2307 210.227,-207.8859\"/>\n",
       "<polygon fill=\"#000000\" stroke=\"#000000\" points=\"213.2358,-206.0834 205.5498,-198.7913 207.0108,-209.2849 213.2358,-206.0834\"/>\n",
       "</g>\n",
       "</g>\n",
       "</svg>\n"
      ],
      "text/plain": [
       "<graphviz.dot.Digraph at 0x7fb4904e7b70>"
      ]
     },
     "execution_count": 199,
     "metadata": {
      "tags": []
     },
     "output_type": "execute_result"
    }
   ],
   "source": [
    "make_dot(out, params={\"x\":x, \"z\":z, \"y\":y})"
   ]
  },
  {
   "cell_type": "code",
   "execution_count": 0,
   "metadata": {
    "colab": {},
    "colab_type": "code",
    "id": "nYDER84IcB9G"
   },
   "outputs": [],
   "source": [
    "z = torch.randn(1, requires_grad=True, dtype=torch.float)\n",
    "y = torch.randn(2,2, requires_grad=True, dtype=torch.float)\n",
    "x = torch.randn(2,2, requires_grad=True, dtype=torch.float)\n",
    "\n",
    "out = ((x*2)+1) - (x + (y+z).T)"
   ]
  },
  {
   "cell_type": "code",
   "execution_count": 0,
   "metadata": {
    "colab": {
     "base_uri": "https://localhost:8080/",
     "height": 398
    },
    "colab_type": "code",
    "id": "hL1dq-f4doMj",
    "outputId": "b13acdc6-b8c4-417b-e264-aaf1385d1b1b"
   },
   "outputs": [
    {
     "data": {
      "image/svg+xml": [
       "<?xml version=\"1.0\" encoding=\"UTF-8\" standalone=\"no\"?>\n",
       "<!DOCTYPE svg PUBLIC \"-//W3C//DTD SVG 1.1//EN\"\n",
       " \"http://www.w3.org/Graphics/SVG/1.1/DTD/svg11.dtd\">\n",
       "<!-- Generated by graphviz version 2.40.1 (20161225.0304)\n",
       " -->\n",
       "<!-- Title: %3 Pages: 1 -->\n",
       "<svg width=\"271pt\" height=\"283pt\"\n",
       " viewBox=\"0.00 0.00 271.00 283.00\" xmlns=\"http://www.w3.org/2000/svg\" xmlns:xlink=\"http://www.w3.org/1999/xlink\">\n",
       "<g id=\"graph0\" class=\"graph\" transform=\"scale(1 1) rotate(0) translate(4 279)\">\n",
       "<title>%3</title>\n",
       "<polygon fill=\"#ffffff\" stroke=\"transparent\" points=\"-4,4 -4,-279 267,-279 267,4 -4,4\"/>\n",
       "<!-- 140206174449392 -->\n",
       "<g id=\"node1\" class=\"node\">\n",
       "<title>140206174449392</title>\n",
       "<polygon fill=\"#caff70\" stroke=\"#000000\" points=\"146,-21 56,-21 56,0 146,0 146,-21\"/>\n",
       "<text text-anchor=\"middle\" x=\"101\" y=\"-7.4\" font-family=\"Times,serif\" font-size=\"12.00\" fill=\"#000000\">SubBackward0</text>\n",
       "</g>\n",
       "<!-- 140206174447712 -->\n",
       "<g id=\"node2\" class=\"node\">\n",
       "<title>140206174447712</title>\n",
       "<polygon fill=\"#d3d3d3\" stroke=\"#000000\" points=\"92,-78 0,-78 0,-57 92,-57 92,-78\"/>\n",
       "<text text-anchor=\"middle\" x=\"46\" y=\"-64.4\" font-family=\"Times,serif\" font-size=\"12.00\" fill=\"#000000\">AddBackward0</text>\n",
       "</g>\n",
       "<!-- 140206174447712&#45;&gt;140206174449392 -->\n",
       "<g id=\"edge1\" class=\"edge\">\n",
       "<title>140206174447712&#45;&gt;140206174449392</title>\n",
       "<path fill=\"none\" stroke=\"#000000\" d=\"M56.3451,-56.7787C64.0272,-48.8173 74.6831,-37.7739 83.6589,-28.4717\"/>\n",
       "<polygon fill=\"#000000\" stroke=\"#000000\" points=\"86.2763,-30.7997 90.7013,-21.1732 81.2389,-25.9391 86.2763,-30.7997\"/>\n",
       "</g>\n",
       "<!-- 140206174445808 -->\n",
       "<g id=\"node3\" class=\"node\">\n",
       "<title>140206174445808</title>\n",
       "<polygon fill=\"#d3d3d3\" stroke=\"#000000\" points=\"91.5,-135 .5,-135 .5,-114 91.5,-114 91.5,-135\"/>\n",
       "<text text-anchor=\"middle\" x=\"46\" y=\"-121.4\" font-family=\"Times,serif\" font-size=\"12.00\" fill=\"#000000\">MulBackward0</text>\n",
       "</g>\n",
       "<!-- 140206174445808&#45;&gt;140206174447712 -->\n",
       "<g id=\"edge2\" class=\"edge\">\n",
       "<title>140206174445808&#45;&gt;140206174447712</title>\n",
       "<path fill=\"none\" stroke=\"#000000\" d=\"M46,-113.7787C46,-106.6134 46,-96.9517 46,-88.3097\"/>\n",
       "<polygon fill=\"#000000\" stroke=\"#000000\" points=\"49.5001,-88.1732 46,-78.1732 42.5001,-88.1732 49.5001,-88.1732\"/>\n",
       "</g>\n",
       "<!-- 140206174445976 -->\n",
       "<g id=\"node4\" class=\"node\">\n",
       "<title>140206174445976</title>\n",
       "<polygon fill=\"#add8e6\" stroke=\"#000000\" points=\"105,-205 51,-205 51,-171 105,-171 105,-205\"/>\n",
       "<text text-anchor=\"middle\" x=\"78\" y=\"-191.4\" font-family=\"Times,serif\" font-size=\"12.00\" fill=\"#000000\">x</text>\n",
       "<text text-anchor=\"middle\" x=\"78\" y=\"-178.4\" font-family=\"Times,serif\" font-size=\"12.00\" fill=\"#000000\"> (2, 2)</text>\n",
       "</g>\n",
       "<!-- 140206174445976&#45;&gt;140206174445808 -->\n",
       "<g id=\"edge3\" class=\"edge\">\n",
       "<title>140206174445976&#45;&gt;140206174445808</title>\n",
       "<path fill=\"none\" stroke=\"#000000\" d=\"M69.4246,-170.9832C65.3262,-162.8505 60.3928,-153.0606 56.1125,-144.567\"/>\n",
       "<polygon fill=\"#000000\" stroke=\"#000000\" points=\"59.103,-142.7237 51.4771,-135.3687 52.8519,-145.8739 59.103,-142.7237\"/>\n",
       "</g>\n",
       "<!-- 140206174445864 -->\n",
       "<g id=\"node5\" class=\"node\">\n",
       "<title>140206174445864</title>\n",
       "<polygon fill=\"#d3d3d3\" stroke=\"#000000\" points=\"202,-78 110,-78 110,-57 202,-57 202,-78\"/>\n",
       "<text text-anchor=\"middle\" x=\"156\" y=\"-64.4\" font-family=\"Times,serif\" font-size=\"12.00\" fill=\"#000000\">AddBackward0</text>\n",
       "</g>\n",
       "<!-- 140206174445976&#45;&gt;140206174445864 -->\n",
       "<g id=\"edge5\" class=\"edge\">\n",
       "<title>140206174445976&#45;&gt;140206174445864</title>\n",
       "<path fill=\"none\" stroke=\"#000000\" d=\"M89.0101,-170.9909C103.4044,-148.7535 128.5504,-109.9062 143.6004,-86.6558\"/>\n",
       "<polygon fill=\"#000000\" stroke=\"#000000\" points=\"146.6958,-88.3148 149.1916,-78.0181 140.8194,-84.511 146.6958,-88.3148\"/>\n",
       "</g>\n",
       "<!-- 140206174445864&#45;&gt;140206174449392 -->\n",
       "<g id=\"edge4\" class=\"edge\">\n",
       "<title>140206174445864&#45;&gt;140206174449392</title>\n",
       "<path fill=\"none\" stroke=\"#000000\" d=\"M145.6549,-56.7787C137.9728,-48.8173 127.3169,-37.7739 118.3411,-28.4717\"/>\n",
       "<polygon fill=\"#000000\" stroke=\"#000000\" points=\"120.7611,-25.9391 111.2987,-21.1732 115.7237,-30.7997 120.7611,-25.9391\"/>\n",
       "</g>\n",
       "<!-- 140206174448272 -->\n",
       "<g id=\"node6\" class=\"node\">\n",
       "<title>140206174448272</title>\n",
       "<polygon fill=\"#d3d3d3\" stroke=\"#000000\" points=\"252,-135 148,-135 148,-114 252,-114 252,-135\"/>\n",
       "<text text-anchor=\"middle\" x=\"200\" y=\"-121.4\" font-family=\"Times,serif\" font-size=\"12.00\" fill=\"#000000\">PermuteBackward</text>\n",
       "</g>\n",
       "<!-- 140206174448272&#45;&gt;140206174445864 -->\n",
       "<g id=\"edge6\" class=\"edge\">\n",
       "<title>140206174448272&#45;&gt;140206174445864</title>\n",
       "<path fill=\"none\" stroke=\"#000000\" d=\"M191.7239,-113.7787C185.7626,-106.0561 177.5629,-95.4337 170.5226,-86.3134\"/>\n",
       "<polygon fill=\"#000000\" stroke=\"#000000\" points=\"173.1201,-83.9504 164.239,-78.1732 167.5789,-88.2278 173.1201,-83.9504\"/>\n",
       "</g>\n",
       "<!-- 140206174445640 -->\n",
       "<g id=\"node7\" class=\"node\">\n",
       "<title>140206174445640</title>\n",
       "<polygon fill=\"#d3d3d3\" stroke=\"#000000\" points=\"246,-198.5 154,-198.5 154,-177.5 246,-177.5 246,-198.5\"/>\n",
       "<text text-anchor=\"middle\" x=\"200\" y=\"-184.9\" font-family=\"Times,serif\" font-size=\"12.00\" fill=\"#000000\">AddBackward0</text>\n",
       "</g>\n",
       "<!-- 140206174445640&#45;&gt;140206174448272 -->\n",
       "<g id=\"edge7\" class=\"edge\">\n",
       "<title>140206174445640&#45;&gt;140206174448272</title>\n",
       "<path fill=\"none\" stroke=\"#000000\" d=\"M200,-177.2281C200,-168.5091 200,-155.9699 200,-145.3068\"/>\n",
       "<polygon fill=\"#000000\" stroke=\"#000000\" points=\"203.5001,-145.1128 200,-135.1128 196.5001,-145.1129 203.5001,-145.1128\"/>\n",
       "</g>\n",
       "<!-- 140206174446144 -->\n",
       "<g id=\"node8\" class=\"node\">\n",
       "<title>140206174446144</title>\n",
       "<polygon fill=\"#add8e6\" stroke=\"#000000\" points=\"191,-275 137,-275 137,-241 191,-241 191,-275\"/>\n",
       "<text text-anchor=\"middle\" x=\"164\" y=\"-261.4\" font-family=\"Times,serif\" font-size=\"12.00\" fill=\"#000000\">y</text>\n",
       "<text text-anchor=\"middle\" x=\"164\" y=\"-248.4\" font-family=\"Times,serif\" font-size=\"12.00\" fill=\"#000000\"> (2, 2)</text>\n",
       "</g>\n",
       "<!-- 140206174446144&#45;&gt;140206174445640 -->\n",
       "<g id=\"edge8\" class=\"edge\">\n",
       "<title>140206174446144&#45;&gt;140206174445640</title>\n",
       "<path fill=\"none\" stroke=\"#000000\" d=\"M172.8989,-240.6966C178.0112,-230.756 184.4528,-218.2307 189.773,-207.8859\"/>\n",
       "<polygon fill=\"#000000\" stroke=\"#000000\" points=\"192.9892,-209.2849 194.4502,-198.7913 186.7642,-206.0834 192.9892,-209.2849\"/>\n",
       "</g>\n",
       "<!-- 140206174446032 -->\n",
       "<g id=\"node9\" class=\"node\">\n",
       "<title>140206174446032</title>\n",
       "<polygon fill=\"#add8e6\" stroke=\"#000000\" points=\"263,-275 209,-275 209,-241 263,-241 263,-275\"/>\n",
       "<text text-anchor=\"middle\" x=\"236\" y=\"-261.4\" font-family=\"Times,serif\" font-size=\"12.00\" fill=\"#000000\">z</text>\n",
       "<text text-anchor=\"middle\" x=\"236\" y=\"-248.4\" font-family=\"Times,serif\" font-size=\"12.00\" fill=\"#000000\"> (1)</text>\n",
       "</g>\n",
       "<!-- 140206174446032&#45;&gt;140206174445640 -->\n",
       "<g id=\"edge9\" class=\"edge\">\n",
       "<title>140206174446032&#45;&gt;140206174445640</title>\n",
       "<path fill=\"none\" stroke=\"#000000\" d=\"M227.1011,-240.6966C221.9888,-230.756 215.5472,-218.2307 210.227,-207.8859\"/>\n",
       "<polygon fill=\"#000000\" stroke=\"#000000\" points=\"213.2358,-206.0834 205.5498,-198.7913 207.0108,-209.2849 213.2358,-206.0834\"/>\n",
       "</g>\n",
       "</g>\n",
       "</svg>\n"
      ],
      "text/plain": [
       "<graphviz.dot.Digraph at 0x7f844b392a20>"
      ]
     },
     "execution_count": 101,
     "metadata": {
      "tags": []
     },
     "output_type": "execute_result"
    }
   ],
   "source": [
    "make_dot(out, params={\"x\":x, \"z\":z, \"y\":y})"
   ]
  },
  {
   "cell_type": "markdown",
   "metadata": {
    "colab_type": "text",
    "id": "68HyoX37X6aI"
   },
   "source": [
    "# Modele w Pytorch na przykładzie regresji liniowej\n"
   ]
  },
  {
   "cell_type": "code",
   "execution_count": 8,
   "metadata": {
    "colab": {
     "base_uri": "https://localhost:8080/",
     "height": 35
    },
    "colab_type": "code",
    "id": "lJwauwcXm5zx",
    "outputId": "5d0eecf7-4500-482f-d8b3-4f08ba86cbdb"
   },
   "outputs": [
    {
     "data": {
      "text/plain": [
       "dict_keys(['data', 'target', 'feature_names', 'DESCR', 'filename'])"
      ]
     },
     "execution_count": 8,
     "metadata": {
      "tags": []
     },
     "output_type": "execute_result"
    }
   ],
   "source": [
    "\n",
    "from sklearn.datasets import load_boston\n",
    "boston = load_boston()\n",
    "boston.keys()"
   ]
  },
  {
   "cell_type": "code",
   "execution_count": 9,
   "metadata": {
    "colab": {
     "base_uri": "https://localhost:8080/",
     "height": 954
    },
    "colab_type": "code",
    "id": "Rd7DyLmenE7r",
    "outputId": "1cfb122a-03d2-4610-ce4d-00bb42c22ac4"
   },
   "outputs": [
    {
     "name": "stdout",
     "output_type": "stream",
     "text": [
      ".. _boston_dataset:\n",
      "\n",
      "Boston house prices dataset\n",
      "---------------------------\n",
      "\n",
      "**Data Set Characteristics:**  \n",
      "\n",
      "    :Number of Instances: 506 \n",
      "\n",
      "    :Number of Attributes: 13 numeric/categorical predictive. Median Value (attribute 14) is usually the target.\n",
      "\n",
      "    :Attribute Information (in order):\n",
      "        - CRIM     per capita crime rate by town\n",
      "        - ZN       proportion of residential land zoned for lots over 25,000 sq.ft.\n",
      "        - INDUS    proportion of non-retail business acres per town\n",
      "        - CHAS     Charles River dummy variable (= 1 if tract bounds river; 0 otherwise)\n",
      "        - NOX      nitric oxides concentration (parts per 10 million)\n",
      "        - RM       average number of rooms per dwelling\n",
      "        - AGE      proportion of owner-occupied units built prior to 1940\n",
      "        - DIS      weighted distances to five Boston employment centres\n",
      "        - RAD      index of accessibility to radial highways\n",
      "        - TAX      full-value property-tax rate per $10,000\n",
      "        - PTRATIO  pupil-teacher ratio by town\n",
      "        - B        1000(Bk - 0.63)^2 where Bk is the proportion of blacks by town\n",
      "        - LSTAT    % lower status of the population\n",
      "        - MEDV     Median value of owner-occupied homes in $1000's\n",
      "\n",
      "    :Missing Attribute Values: None\n",
      "\n",
      "    :Creator: Harrison, D. and Rubinfeld, D.L.\n",
      "\n",
      "This is a copy of UCI ML housing dataset.\n",
      "https://archive.ics.uci.edu/ml/machine-learning-databases/housing/\n",
      "\n",
      "\n",
      "This dataset was taken from the StatLib library which is maintained at Carnegie Mellon University.\n",
      "\n",
      "The Boston house-price data of Harrison, D. and Rubinfeld, D.L. 'Hedonic\n",
      "prices and the demand for clean air', J. Environ. Economics & Management,\n",
      "vol.5, 81-102, 1978.   Used in Belsley, Kuh & Welsch, 'Regression diagnostics\n",
      "...', Wiley, 1980.   N.B. Various transformations are used in the table on\n",
      "pages 244-261 of the latter.\n",
      "\n",
      "The Boston house-price data has been used in many machine learning papers that address regression\n",
      "problems.   \n",
      "     \n",
      ".. topic:: References\n",
      "\n",
      "   - Belsley, Kuh & Welsch, 'Regression diagnostics: Identifying Influential Data and Sources of Collinearity', Wiley, 1980. 244-261.\n",
      "   - Quinlan,R. (1993). Combining Instance-Based and Model-Based Learning. In Proceedings on the Tenth International Conference of Machine Learning, 236-243, University of Massachusetts, Amherst. Morgan Kaufmann.\n",
      "\n"
     ]
    }
   ],
   "source": [
    "print(boston['DESCR'])"
   ]
  },
  {
   "cell_type": "code",
   "execution_count": 10,
   "metadata": {
    "colab": {
     "base_uri": "https://localhost:8080/",
     "height": 54
    },
    "colab_type": "code",
    "id": "0wtX0-JsnaID",
    "outputId": "9220986b-be75-4a99-d1b8-577aba565494"
   },
   "outputs": [
    {
     "name": "stdout",
     "output_type": "stream",
     "text": [
      "[5.019 6.538 6.335 6.345 5.961 6.142 5.594 5.57  6.152 6.096]\n",
      "[14.4 24.4 18.1 22.5 20.5 15.2 17.4 13.6  8.7 18.2]\n"
     ]
    }
   ],
   "source": [
    "from sklearn.model_selection  import train_test_split\n",
    "X_train, X_test, y_train, y_test = train_test_split(np.array(boston['data'][:,5], dtype=np.float32),np.array( boston['target'], dtype=np.float32), test_size=0.3, random_state=0)\n",
    "\n",
    "print(X_train[:10])\n",
    "print(y_train[:10])"
   ]
  },
  {
   "cell_type": "markdown",
   "metadata": {
    "colab_type": "text",
    "id": "lzgCyooodHaE"
   },
   "source": [
    "Klasa modelu w pyTorch.\n",
    "\n",
    "Dziedziczy po nn.Module\n",
    "\n",
    "Zwykle conajmniej dwie metody:\n",
    "- init - tutaj iicjalizujemy warstwy etc\n",
    "- forward - tutaj wykonujemy obliczenia i zwracamy wynik"
   ]
  },
  {
   "cell_type": "code",
   "execution_count": 0,
   "metadata": {
    "colab": {},
    "colab_type": "code",
    "id": "JNs8Q8mHaDPT"
   },
   "outputs": [],
   "source": [
    "import torch.nn as nn\n",
    "\n",
    "class LinearRegressionModel(nn.Module):\n",
    "    def __init__(self, input_dim, output_dim):\n",
    "        super().__init__()\n",
    "        self.linear = nn.Linear(input_dim, output_dim)  #jedna warstwa modelu - liniowa\n",
    "\n",
    "    def forward(self, x):\n",
    "        out = self.linear(x) #obliczanie wyjścia\n",
    "        return out"
   ]
  },
  {
   "cell_type": "code",
   "execution_count": 0,
   "metadata": {
    "colab": {},
    "colab_type": "code",
    "id": "amPy4mLrdBRq"
   },
   "outputs": [],
   "source": [
    "#funkcja kosztu, którą będziemy minimalizować\n",
    "\n",
    "criterion = nn.MSELoss()"
   ]
  },
  {
   "cell_type": "code",
   "execution_count": 0,
   "metadata": {
    "colab": {},
    "colab_type": "code",
    "id": "dT9JtQ9jglm0"
   },
   "outputs": [],
   "source": [
    "torch.manual_seed(0)\n",
    "\n",
    "#ustalenie wymiarów danych wejściowych oraz wyjścia\n",
    "input_dim = 1 # rozmiar wejścia\n",
    "output_dim = 1 # rozmiar wyjścia -  będzie to 1 bo chcemy otrzymać jedną wartość liczbową\n",
    "\n",
    "#utworzenie obiektu modelu regrsji liniowej\n",
    "model = LinearRegressionModel(input_dim, output_dim)\n",
    "\n",
    "\n",
    "#Ustalenie metody optymalizacji, tutaj SGD, oraz jej parametrów\n",
    "\n",
    "learning_rate = 0.01\n",
    "\n",
    "optimizer = torch.optim.SGD(model.parameters(), lr=learning_rate)"
   ]
  },
  {
   "cell_type": "code",
   "execution_count": 14,
   "metadata": {
    "colab": {
     "base_uri": "https://localhost:8080/",
     "height": 384
    },
    "colab_type": "code",
    "id": "X5OYzNjEhZtj",
    "outputId": "04f97383-daf7-4a8e-b1f7-6dd13465dcf1"
   },
   "outputs": [
    {
     "name": "stdout",
     "output_type": "stream",
     "text": [
      "epoch 1, loss 580.1744384765625\n",
      "epoch 2, loss 74.79080963134766\n",
      "epoch 3, loss 59.39674758911133\n",
      "epoch 4, loss 58.92034149169922\n",
      "epoch 5, loss 58.898101806640625\n",
      "epoch 6, loss 58.88969802856445\n",
      "epoch 7, loss 58.8817138671875\n",
      "epoch 8, loss 58.87375259399414\n",
      "epoch 9, loss 58.86579895019531\n",
      "epoch 10, loss 58.85783386230469\n",
      "epoch 11, loss 58.849884033203125\n",
      "epoch 12, loss 58.841941833496094\n",
      "epoch 13, loss 58.83399963378906\n",
      "epoch 14, loss 58.8260498046875\n",
      "epoch 15, loss 58.818111419677734\n",
      "epoch 16, loss 58.810176849365234\n",
      "epoch 17, loss 58.802249908447266\n",
      "epoch 18, loss 58.79433059692383\n",
      "epoch 19, loss 58.78640365600586\n",
      "epoch 20, loss 58.77849197387695\n"
     ]
    }
   ],
   "source": [
    "#trenowanie modelu\n",
    "\n",
    "epochs = 20\n",
    "for epoch in range(epochs):\n",
    "    epoch += 1\n",
    "    # konwersja tablicy numpy na tensory o odpowiednich wymiarach\n",
    "    inputs = torch.from_numpy(X_train).view(-1,1)#.unsqueeze(1)\n",
    "    #print(inputs)\n",
    "    labels = torch.from_numpy(y_train)\n",
    "\n",
    "    # Czyszczenie gradientów\n",
    "    optimizer.zero_grad() \n",
    "\n",
    "    # oblicznie wyjścia (w grafie obliczeń: od początku do końca)\n",
    "    outputs = model(inputs)\n",
    "\n",
    "    # Obliczanie błedu\n",
    "    loss = criterion(outputs, labels.unsqueeze(1))\n",
    "\n",
    "    # Obliczanie gradientów dla parametrów (od końca do początku)\n",
    "    loss.backward()\n",
    "\n",
    "    # Aktualizacja parametrów\n",
    "    optimizer.step()\n",
    "    \n",
    "    print('epoch {}, loss {}'.format(epoch, loss.item()))"
   ]
  },
  {
   "cell_type": "markdown",
   "metadata": {
    "colab_type": "text",
    "id": "GwE9zy9HawxH"
   },
   "source": [
    "### Zadanie 3\n",
    "Narysuj graf dla powyższych obliczeń (uwzględnij loss). Aby uzyskać nazyw parametrów modelu wykorzystaj model.named_paramters(). \n",
    "\n",
    "Które zmienne są, a które nie są wyświetlane (zapisz odpowiedź)?"
   ]
  },
  {
   "cell_type": "code",
   "execution_count": 0,
   "metadata": {
    "colab": {
     "base_uri": "https://localhost:8080/",
     "height": 90
    },
    "colab_type": "code",
    "id": "a84ySkpecrXj",
    "outputId": "af64a42e-68a0-49cf-8cb7-33536f6f9c49"
   },
   "outputs": [
    {
     "name": "stdout",
     "output_type": "stream",
     "text": [
      "('linear.weight', Parameter containing:\n",
      "tensor([[3.5309]], requires_grad=True))\n",
      "('linear.bias', Parameter containing:\n",
      "tensor([0.9102], requires_grad=True))\n"
     ]
    }
   ],
   "source": [
    "for name in model.named_parameters():\n",
    "  print(name)"
   ]
  },
  {
   "cell_type": "code",
   "execution_count": 0,
   "metadata": {
    "colab": {
     "base_uri": "https://localhost:8080/",
     "height": 322
    },
    "colab_type": "code",
    "id": "_2iEHzWlf8G_",
    "outputId": "05a3dc86-1fbd-490b-94fe-5cc99684d0fc"
   },
   "outputs": [
    {
     "data": {
      "image/svg+xml": [
       "<?xml version=\"1.0\" encoding=\"UTF-8\" standalone=\"no\"?>\n",
       "<!DOCTYPE svg PUBLIC \"-//W3C//DTD SVG 1.1//EN\"\n",
       " \"http://www.w3.org/Graphics/SVG/1.1/DTD/svg11.dtd\">\n",
       "<!-- Generated by graphviz version 2.40.1 (20161225.0304)\n",
       " -->\n",
       "<!-- Title: %3 Pages: 1 -->\n",
       "<svg width=\"166pt\" height=\"226pt\"\n",
       " viewBox=\"0.00 0.00 165.50 226.00\" xmlns=\"http://www.w3.org/2000/svg\" xmlns:xlink=\"http://www.w3.org/1999/xlink\">\n",
       "<g id=\"graph0\" class=\"graph\" transform=\"scale(1 1) rotate(0) translate(4 222)\">\n",
       "<title>%3</title>\n",
       "<polygon fill=\"#ffffff\" stroke=\"transparent\" points=\"-4,4 -4,-222 161.5,-222 161.5,4 -4,4\"/>\n",
       "<!-- 140206121445640 -->\n",
       "<g id=\"node1\" class=\"node\">\n",
       "<title>140206121445640</title>\n",
       "<polygon fill=\"#caff70\" stroke=\"#000000\" points=\"129,-21 21,-21 21,0 129,0 129,-21\"/>\n",
       "<text text-anchor=\"middle\" x=\"75\" y=\"-7.4\" font-family=\"Times,serif\" font-size=\"12.00\" fill=\"#000000\">MseLossBackward</text>\n",
       "</g>\n",
       "<!-- 140206121446928 -->\n",
       "<g id=\"node2\" class=\"node\">\n",
       "<title>140206121446928</title>\n",
       "<polygon fill=\"#d3d3d3\" stroke=\"#000000\" points=\"127,-78 23,-78 23,-57 127,-57 127,-78\"/>\n",
       "<text text-anchor=\"middle\" x=\"75\" y=\"-64.4\" font-family=\"Times,serif\" font-size=\"12.00\" fill=\"#000000\">AddmmBackward</text>\n",
       "</g>\n",
       "<!-- 140206121446928&#45;&gt;140206121445640 -->\n",
       "<g id=\"edge1\" class=\"edge\">\n",
       "<title>140206121446928&#45;&gt;140206121445640</title>\n",
       "<path fill=\"none\" stroke=\"#000000\" d=\"M75,-56.7787C75,-49.6134 75,-39.9517 75,-31.3097\"/>\n",
       "<polygon fill=\"#000000\" stroke=\"#000000\" points=\"78.5001,-31.1732 75,-21.1732 71.5001,-31.1732 78.5001,-31.1732\"/>\n",
       "</g>\n",
       "<!-- 140206121447376 -->\n",
       "<g id=\"node3\" class=\"node\">\n",
       "<title>140206121447376</title>\n",
       "<polygon fill=\"#add8e6\" stroke=\"#000000\" points=\"64,-148 0,-148 0,-114 64,-114 64,-148\"/>\n",
       "<text text-anchor=\"middle\" x=\"32\" y=\"-134.4\" font-family=\"Times,serif\" font-size=\"12.00\" fill=\"#000000\">linear.bias</text>\n",
       "<text text-anchor=\"middle\" x=\"32\" y=\"-121.4\" font-family=\"Times,serif\" font-size=\"12.00\" fill=\"#000000\"> (1)</text>\n",
       "</g>\n",
       "<!-- 140206121447376&#45;&gt;140206121446928 -->\n",
       "<g id=\"edge2\" class=\"edge\">\n",
       "<title>140206121447376&#45;&gt;140206121446928</title>\n",
       "<path fill=\"none\" stroke=\"#000000\" d=\"M43.5232,-113.9832C49.21,-105.5853 56.0933,-95.4204 61.9711,-86.7404\"/>\n",
       "<polygon fill=\"#000000\" stroke=\"#000000\" points=\"64.9311,-88.6113 67.6401,-78.3687 59.135,-84.6864 64.9311,-88.6113\"/>\n",
       "</g>\n",
       "<!-- 140206121446592 -->\n",
       "<g id=\"node4\" class=\"node\">\n",
       "<title>140206121446592</title>\n",
       "<polygon fill=\"#d3d3d3\" stroke=\"#000000\" points=\"155.5,-141.5 82.5,-141.5 82.5,-120.5 155.5,-120.5 155.5,-141.5\"/>\n",
       "<text text-anchor=\"middle\" x=\"119\" y=\"-127.9\" font-family=\"Times,serif\" font-size=\"12.00\" fill=\"#000000\">TBackward</text>\n",
       "</g>\n",
       "<!-- 140206121446592&#45;&gt;140206121446928 -->\n",
       "<g id=\"edge3\" class=\"edge\">\n",
       "<title>140206121446592&#45;&gt;140206121446928</title>\n",
       "<path fill=\"none\" stroke=\"#000000\" d=\"M111.536,-120.2281C105.1766,-111.0503 95.884,-97.6394 88.2621,-86.6396\"/>\n",
       "<polygon fill=\"#000000\" stroke=\"#000000\" points=\"90.9261,-84.339 82.3538,-78.1128 85.1724,-88.3259 90.9261,-84.339\"/>\n",
       "</g>\n",
       "<!-- 140206121443680 -->\n",
       "<g id=\"node5\" class=\"node\">\n",
       "<title>140206121443680</title>\n",
       "<polygon fill=\"#add8e6\" stroke=\"#000000\" points=\"157.5,-218 80.5,-218 80.5,-184 157.5,-184 157.5,-218\"/>\n",
       "<text text-anchor=\"middle\" x=\"119\" y=\"-204.4\" font-family=\"Times,serif\" font-size=\"12.00\" fill=\"#000000\">linear.weight</text>\n",
       "<text text-anchor=\"middle\" x=\"119\" y=\"-191.4\" font-family=\"Times,serif\" font-size=\"12.00\" fill=\"#000000\"> (1, 2)</text>\n",
       "</g>\n",
       "<!-- 140206121443680&#45;&gt;140206121446592 -->\n",
       "<g id=\"edge4\" class=\"edge\">\n",
       "<title>140206121443680&#45;&gt;140206121446592</title>\n",
       "<path fill=\"none\" stroke=\"#000000\" d=\"M119,-183.6966C119,-174.0634 119,-162.003 119,-151.8518\"/>\n",
       "<polygon fill=\"#000000\" stroke=\"#000000\" points=\"122.5001,-151.7912 119,-141.7913 115.5001,-151.7913 122.5001,-151.7912\"/>\n",
       "</g>\n",
       "</g>\n",
       "</svg>\n"
      ],
      "text/plain": [
       "<graphviz.dot.Digraph at 0x7f8448100278>"
      ]
     },
     "execution_count": 146,
     "metadata": {
      "tags": []
     },
     "output_type": "execute_result"
    }
   ],
   "source": [
    "make_dot(loss, params={\"linear.weight\":model.linear.weight, \"linear.bias\":model.linear.bias, \"outputs\":outputs})"
   ]
  },
  {
   "cell_type": "markdown",
   "metadata": {
    "colab_type": "text",
    "id": "PaxGDqqTkox4"
   },
   "source": [
    "Nie ma w wyświetlanych parametrach output-u, optimizera\n"
   ]
  },
  {
   "cell_type": "markdown",
   "metadata": {
    "colab_type": "text",
    "id": "FzvWZEE_bOO2"
   },
   "source": [
    "### Zadanie 4\n",
    "\n",
    "Dla danych testowych narysuj wykres przedstawiający predykcję cen wykonaną przez model oraz ceny rzeczywiste zależne od liczby pokoi."
   ]
  },
  {
   "cell_type": "code",
   "execution_count": 15,
   "metadata": {
    "colab": {
     "base_uri": "https://localhost:8080/",
     "height": 283
    },
    "colab_type": "code",
    "id": "Om7ns312f7Z9",
    "outputId": "79918f29-a034-4637-bbde-26d6d305b100"
   },
   "outputs": [
    {
     "data": {
      "text/plain": [
       "<matplotlib.collections.PathCollection at 0x7efc04b95da0>"
      ]
     },
     "execution_count": 15,
     "metadata": {
      "tags": []
     },
     "output_type": "execute_result"
    },
    {
     "data": {
      "image/png": "[encoded data removed]",
      "text/plain": [
       "<Figure size 432x288 with 1 Axes>"
      ]
     },
     "metadata": {
      "needs_background": "light",
      "tags": []
     },
     "output_type": "display_data"
    }
   ],
   "source": [
    "import matplotlib.pyplot as plt\n",
    "\n",
    "plt.scatter(outputs.detach().numpy(), labels.detach().numpy())"
   ]
  },
  {
   "cell_type": "markdown",
   "metadata": {
    "colab_type": "text",
    "id": "mCkJCzxHf9Yp"
   },
   "source": [
    "## Zadanie 5 \n",
    "Utwórz model regresji liniowej(korystając z powyższego), która dokona predykcji cen na podstawie 2 atrybutów: 4 i 5. Czy coś zmieni się w grafie obliczeń?"
   ]
  },
  {
   "cell_type": "code",
   "execution_count": 3,
   "metadata": {
    "colab": {
     "base_uri": "https://localhost:8080/",
     "height": 586
    },
    "colab_type": "code",
    "id": "g_rk2Y0mfdDS",
    "outputId": "c10db4f6-8e35-4173-e475-9335d2adb2f6"
   },
   "outputs": [
    {
     "name": "stdout",
     "output_type": "stream",
     "text": [
      "[[10 11]\n",
      " [20 30]\n",
      " [ 5  4]\n",
      " [ 8 20]\n",
      " [22 10]\n",
      " [ 9 10]\n",
      " [ 5 17]\n",
      " [ 5 50]\n",
      " [50  5]\n",
      " [ 3  4]]\n",
      "[0 1 0 1 0 0 1 1 0 0]\n"
     ]
    },
    {
     "ename": "NameError",
     "evalue": "name 'nn' is not defined",
     "output_type": "error",
     "traceback": [
      "\u001b[1;31m---------------------------------------------------------------------------\u001b[0m",
      "\u001b[1;31mNameError\u001b[0m                                 Traceback (most recent call last)",
      "\u001b[1;32m<ipython-input-3-50f8a662a593>\u001b[0m in \u001b[0;36m<module>\u001b[1;34m\u001b[0m\n\u001b[0;32m     10\u001b[0m \u001b[1;31m#funkcja kosztu, którą będziemy minimalizować\u001b[0m\u001b[1;33m\u001b[0m\u001b[1;33m\u001b[0m\u001b[1;33m\u001b[0m\u001b[0m\n\u001b[0;32m     11\u001b[0m \u001b[1;33m\u001b[0m\u001b[0m\n\u001b[1;32m---> 12\u001b[1;33m \u001b[0mcriterion\u001b[0m \u001b[1;33m=\u001b[0m \u001b[0mnn\u001b[0m\u001b[1;33m.\u001b[0m\u001b[0mMSELoss\u001b[0m\u001b[1;33m(\u001b[0m\u001b[1;33m)\u001b[0m\u001b[1;33m\u001b[0m\u001b[1;33m\u001b[0m\u001b[0m\n\u001b[0m\u001b[0;32m     13\u001b[0m \u001b[1;33m\u001b[0m\u001b[0m\n\u001b[0;32m     14\u001b[0m \u001b[0mtorch\u001b[0m\u001b[1;33m.\u001b[0m\u001b[0mmanual_seed\u001b[0m\u001b[1;33m(\u001b[0m\u001b[1;36m0\u001b[0m\u001b[1;33m)\u001b[0m\u001b[1;33m\u001b[0m\u001b[1;33m\u001b[0m\u001b[0m\n",
      "\u001b[1;31mNameError\u001b[0m: name 'nn' is not defined"
     ]
    }
   ],
   "source": [
    "#from sklearn.model_selection  import train_test_split\n",
    "#X_train, X_test, y_train, y_test = train_test_split(np.array(boston['data'][:,[4,5]], dtype=np.float32),np.array( boston['target'], dtype=np.float32), test_size=0.3, random_state=0)\n",
    "import numpy as np\n",
    "X_train=np.array([[10,11], [20,30], [5,4], [8,20], [22, 10], [9, 10], [5, 17], [5, 50], [50,5], [3,4], [6,7], [-10,10], [-10,1]])\n",
    "y_train=np.array([0,1, 0, 1, 0, 0, 1,1,0,0,0, 1,1])\n",
    "\n",
    "print(X_train[:10])\n",
    "print(y_train[:10])\n",
    "\n",
    "#funkcja kosztu, którą będziemy minimalizować\n",
    "\n",
    "criterion = nn.MSELoss()\n",
    "\n",
    "torch.manual_seed(0)\n",
    "\n",
    "#ustalenie wymiarów danych wejściowych oraz wyjścia\n",
    "input_dim = 2 # rozmiar wejścia\n",
    "output_dim = 1 # rozmiar wyjścia -  będzie to 1 bo chcemy otrzymać jedną wartość liczbową\n",
    "\n",
    "#utworzenie obiektu modelu regrsji liniowej\n",
    "model = LinearRegressionModel(input_dim, output_dim)\n",
    "\n",
    "\n",
    "#Ustalenie metody optymalizacji, tutaj SGD, oraz jej parametrów\n",
    "\n",
    "learning_rate = 0.01\n",
    "\n",
    "optimizer = torch.optim.SGD(model.parameters(), lr=learning_rate)\n",
    "\n",
    "#trenowanie modelu\n",
    "\n",
    "epochs = 20\n",
    "for epoch in range(epochs):\n",
    "    epoch += 1\n",
    "    # konwersja tablicy numpy na tensory o odpowiednich wymiarach\n",
    "    inputs = torch.from_numpy(X_train)#.unsqueeze(1)\n",
    "    #print(inputs)\n",
    "    labels = torch.from_numpy(y_train)\n",
    "\n",
    "    # Czyszczenie gradientów\n",
    "    optimizer.zero_grad() \n",
    "\n",
    "    # oblicznie wyjścia (w grafie obliczeń: od początku do końca)\n",
    "    outputs = model(inputs)\n",
    "\n",
    "    # Obliczanie błedu\n",
    "    loss = criterion(outputs, labels.unsqueeze(1))\n",
    "\n",
    "    # Obliczanie gradientów dla parametrów (od końca do początku)\n",
    "    loss.backward()\n",
    "\n",
    "    # Aktualizacja parametrów\n",
    "    optimizer.step()\n",
    "    \n",
    "    print('epoch {}, loss {}'.format(epoch, loss.item()))"
   ]
  },
  {
   "cell_type": "code",
   "execution_count": 0,
   "metadata": {
    "colab": {
     "base_uri": "https://localhost:8080/",
     "height": 322
    },
    "colab_type": "code",
    "id": "7JB93yrOikfB",
    "outputId": "19682b3b-8e7d-4b27-ec79-5cf4c8527090"
   },
   "outputs": [
    {
     "data": {
      "image/svg+xml": [
       "<?xml version=\"1.0\" encoding=\"UTF-8\" standalone=\"no\"?>\n",
       "<!DOCTYPE svg PUBLIC \"-//W3C//DTD SVG 1.1//EN\"\n",
       " \"http://www.w3.org/Graphics/SVG/1.1/DTD/svg11.dtd\">\n",
       "<!-- Generated by graphviz version 2.40.1 (20161225.0304)\n",
       " -->\n",
       "<!-- Title: %3 Pages: 1 -->\n",
       "<svg width=\"166pt\" height=\"226pt\"\n",
       " viewBox=\"0.00 0.00 165.50 226.00\" xmlns=\"http://www.w3.org/2000/svg\" xmlns:xlink=\"http://www.w3.org/1999/xlink\">\n",
       "<g id=\"graph0\" class=\"graph\" transform=\"scale(1 1) rotate(0) translate(4 222)\">\n",
       "<title>%3</title>\n",
       "<polygon fill=\"#ffffff\" stroke=\"transparent\" points=\"-4,4 -4,-222 161.5,-222 161.5,4 -4,4\"/>\n",
       "<!-- 140206121445640 -->\n",
       "<g id=\"node1\" class=\"node\">\n",
       "<title>140206121445640</title>\n",
       "<polygon fill=\"#caff70\" stroke=\"#000000\" points=\"129,-21 21,-21 21,0 129,0 129,-21\"/>\n",
       "<text text-anchor=\"middle\" x=\"75\" y=\"-7.4\" font-family=\"Times,serif\" font-size=\"12.00\" fill=\"#000000\">MseLossBackward</text>\n",
       "</g>\n",
       "<!-- 140206121446928 -->\n",
       "<g id=\"node2\" class=\"node\">\n",
       "<title>140206121446928</title>\n",
       "<polygon fill=\"#d3d3d3\" stroke=\"#000000\" points=\"127,-78 23,-78 23,-57 127,-57 127,-78\"/>\n",
       "<text text-anchor=\"middle\" x=\"75\" y=\"-64.4\" font-family=\"Times,serif\" font-size=\"12.00\" fill=\"#000000\">AddmmBackward</text>\n",
       "</g>\n",
       "<!-- 140206121446928&#45;&gt;140206121445640 -->\n",
       "<g id=\"edge1\" class=\"edge\">\n",
       "<title>140206121446928&#45;&gt;140206121445640</title>\n",
       "<path fill=\"none\" stroke=\"#000000\" d=\"M75,-56.7787C75,-49.6134 75,-39.9517 75,-31.3097\"/>\n",
       "<polygon fill=\"#000000\" stroke=\"#000000\" points=\"78.5001,-31.1732 75,-21.1732 71.5001,-31.1732 78.5001,-31.1732\"/>\n",
       "</g>\n",
       "<!-- 140206121447376 -->\n",
       "<g id=\"node3\" class=\"node\">\n",
       "<title>140206121447376</title>\n",
       "<polygon fill=\"#add8e6\" stroke=\"#000000\" points=\"64,-148 0,-148 0,-114 64,-114 64,-148\"/>\n",
       "<text text-anchor=\"middle\" x=\"32\" y=\"-134.4\" font-family=\"Times,serif\" font-size=\"12.00\" fill=\"#000000\">linear.bias</text>\n",
       "<text text-anchor=\"middle\" x=\"32\" y=\"-121.4\" font-family=\"Times,serif\" font-size=\"12.00\" fill=\"#000000\"> (1)</text>\n",
       "</g>\n",
       "<!-- 140206121447376&#45;&gt;140206121446928 -->\n",
       "<g id=\"edge2\" class=\"edge\">\n",
       "<title>140206121447376&#45;&gt;140206121446928</title>\n",
       "<path fill=\"none\" stroke=\"#000000\" d=\"M43.5232,-113.9832C49.21,-105.5853 56.0933,-95.4204 61.9711,-86.7404\"/>\n",
       "<polygon fill=\"#000000\" stroke=\"#000000\" points=\"64.9311,-88.6113 67.6401,-78.3687 59.135,-84.6864 64.9311,-88.6113\"/>\n",
       "</g>\n",
       "<!-- 140206121446592 -->\n",
       "<g id=\"node4\" class=\"node\">\n",
       "<title>140206121446592</title>\n",
       "<polygon fill=\"#d3d3d3\" stroke=\"#000000\" points=\"155.5,-141.5 82.5,-141.5 82.5,-120.5 155.5,-120.5 155.5,-141.5\"/>\n",
       "<text text-anchor=\"middle\" x=\"119\" y=\"-127.9\" font-family=\"Times,serif\" font-size=\"12.00\" fill=\"#000000\">TBackward</text>\n",
       "</g>\n",
       "<!-- 140206121446592&#45;&gt;140206121446928 -->\n",
       "<g id=\"edge3\" class=\"edge\">\n",
       "<title>140206121446592&#45;&gt;140206121446928</title>\n",
       "<path fill=\"none\" stroke=\"#000000\" d=\"M111.536,-120.2281C105.1766,-111.0503 95.884,-97.6394 88.2621,-86.6396\"/>\n",
       "<polygon fill=\"#000000\" stroke=\"#000000\" points=\"90.9261,-84.339 82.3538,-78.1128 85.1724,-88.3259 90.9261,-84.339\"/>\n",
       "</g>\n",
       "<!-- 140206121443680 -->\n",
       "<g id=\"node5\" class=\"node\">\n",
       "<title>140206121443680</title>\n",
       "<polygon fill=\"#add8e6\" stroke=\"#000000\" points=\"157.5,-218 80.5,-218 80.5,-184 157.5,-184 157.5,-218\"/>\n",
       "<text text-anchor=\"middle\" x=\"119\" y=\"-204.4\" font-family=\"Times,serif\" font-size=\"12.00\" fill=\"#000000\">linear.weight</text>\n",
       "<text text-anchor=\"middle\" x=\"119\" y=\"-191.4\" font-family=\"Times,serif\" font-size=\"12.00\" fill=\"#000000\"> (1, 2)</text>\n",
       "</g>\n",
       "<!-- 140206121443680&#45;&gt;140206121446592 -->\n",
       "<g id=\"edge4\" class=\"edge\">\n",
       "<title>140206121443680&#45;&gt;140206121446592</title>\n",
       "<path fill=\"none\" stroke=\"#000000\" d=\"M119,-183.6966C119,-174.0634 119,-162.003 119,-151.8518\"/>\n",
       "<polygon fill=\"#000000\" stroke=\"#000000\" points=\"122.5001,-151.7912 119,-141.7913 115.5001,-151.7913 122.5001,-151.7912\"/>\n",
       "</g>\n",
       "</g>\n",
       "</svg>\n"
      ],
      "text/plain": [
       "<graphviz.dot.Digraph at 0x7f844b3a0e80>"
      ]
     },
     "execution_count": 147,
     "metadata": {
      "tags": []
     },
     "output_type": "execute_result"
    }
   ],
   "source": [
    "make_dot(loss, params={\"linear.weight\":model.linear.weight, \"linear.bias\":model.linear.bias, \"outputs\":outputs})"
   ]
  },
  {
   "cell_type": "markdown",
   "metadata": {
    "colab_type": "text",
    "id": "L2T7cdYVlHCZ"
   },
   "source": [
    "Na grafie się nic nie zmieniło.\n",
    "\n"
   ]
  }
 ],
 "metadata": {
  "colab": {
   "collapsed_sections": [],
   "name": "wum1z.ipynb",
   "provenance": [],
   "toc_visible": true
  },
  "kernelspec": {
   "display_name": "Python 3",
   "language": "python",
   "name": "python3"
  },
  "language_info": {
   "codemirror_mode": {
    "name": "ipython",
    "version": 3
   },
   "file_extension": ".py",
   "mimetype": "text/x-python",
   "name": "python",
   "nbconvert_exporter": "python",
   "pygments_lexer": "ipython3",
   "version": "3.8.5"
  }
 },
 "nbformat": 4,
 "nbformat_minor": 1
}
